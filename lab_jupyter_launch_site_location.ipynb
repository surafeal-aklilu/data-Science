{
  "metadata": {
    "kernelspec": {
      "name": "python",
      "display_name": "Python (Pyodide)",
      "language": "python"
    },
    "language_info": {
      "codemirror_mode": {
        "name": "python",
        "version": 3
      },
      "file_extension": ".py",
      "mimetype": "text/x-python",
      "name": "python",
      "nbconvert_exporter": "python",
      "pygments_lexer": "ipython3",
      "version": "3.8"
    },
    "prev_pub_hash": "0f9db842b41c859223722809f8be602f5df9334348bd206b11e3af58c30eb345"
  },
  "nbformat_minor": 4,
  "nbformat": 4,
  "cells": [
    {
      "cell_type": "markdown",
      "source": "<p style=\"text-align:center\">\n    <a href=\"https://skills.network/?utm_medium=Exinfluencer&utm_source=Exinfluencer&utm_content=000026UJ&utm_term=10006555&utm_id=NA-SkillsNetwork-Channel-SkillsNetworkCoursesIBMDS0321ENSkillsNetwork26802033-2022-01-01\" target=\"_blank\">\n    <img src=\"https://cf-courses-data.s3.us.cloud-object-storage.appdomain.cloud/assets/logos/SN_web_lightmode.png\" width=\"200\" alt=\"Skills Network Logo\">\n    </a>\n</p>\n",
      "metadata": {}
    },
    {
      "cell_type": "markdown",
      "source": "# **Hands-on Lab: Interactive Visual Analytics with Folium**\n",
      "metadata": {}
    },
    {
      "cell_type": "markdown",
      "source": "Estimated time needed: **40** minutes\n",
      "metadata": {}
    },
    {
      "cell_type": "markdown",
      "source": "The launch success rate may depend on many factors such as payload mass, orbit type, and so on. It may also depend on the location and proximities of a launch site, i.e., the initial position of rocket trajectories. Finding an optimal location for building a launch site certainly involves many factors and hopefully we could discover some of the factors by analyzing the existing launch site locations.\n",
      "metadata": {}
    },
    {
      "cell_type": "markdown",
      "source": "In the previous exploratory data analysis labs, you have visualized the SpaceX launch dataset using `matplotlib` and `seaborn` and discovered some preliminary correlations between the launch site and success rates. In this lab, you will be performing more interactive visual analytics using `Folium`.\n",
      "metadata": {}
    },
    {
      "cell_type": "markdown",
      "source": "## Objectives\n",
      "metadata": {}
    },
    {
      "cell_type": "markdown",
      "source": "This lab contains the following tasks:\n\n*   **TASK 1:** Mark all launch sites on a map\n*   **TASK 2:** Mark the success/failed launches for each site on the map\n*   **TASK 3:** Calculate the distances between a launch site to its proximities\n\nAfter completed the above tasks, you should be able to find some geographical patterns about launch sites.\n",
      "metadata": {}
    },
    {
      "cell_type": "markdown",
      "source": "Let's first import required Python packages for this lab:\n",
      "metadata": {}
    },
    {
      "cell_type": "code",
      "source": "import piplite\nawait piplite.install(['folium'])\nawait piplite.install(['pandas'])",
      "metadata": {
        "trusted": true
      },
      "outputs": [],
      "execution_count": 2
    },
    {
      "cell_type": "code",
      "source": "import folium\nimport pandas as pd",
      "metadata": {
        "trusted": true
      },
      "outputs": [],
      "execution_count": 3
    },
    {
      "cell_type": "code",
      "source": "# Import folium MarkerCluster plugin\nfrom folium.plugins import MarkerCluster\n# Import folium MousePosition plugin\nfrom folium.plugins import MousePosition\n# Import folium DivIcon plugin\nfrom folium.features import DivIcon",
      "metadata": {
        "trusted": true
      },
      "outputs": [],
      "execution_count": 4
    },
    {
      "cell_type": "markdown",
      "source": "If you need to refresh your memory about folium, you may download and refer to this previous folium lab:\n",
      "metadata": {}
    },
    {
      "cell_type": "markdown",
      "source": "[Generating Maps with Python](https://cf-courses-data.s3.us.cloud-object-storage.appdomain.cloud/IBMDeveloperSkillsNetwork-DV0101EN-SkillsNetwork/labs/v4/DV0101EN-Exercise-Generating-Maps-in-Python.ipynb)\n",
      "metadata": {}
    },
    {
      "cell_type": "code",
      "source": "## Task 1: Mark all launch sites on a map\n",
      "metadata": {},
      "outputs": [],
      "execution_count": null
    },
    {
      "cell_type": "markdown",
      "source": "First, let's try to add each site's location on a map using site's latitude and longitude coordinates\n",
      "metadata": {}
    },
    {
      "cell_type": "markdown",
      "source": "The following dataset with the name `spacex_launch_geo.csv` is an augmented dataset with latitude and longitude added for each site.\n",
      "metadata": {}
    },
    {
      "cell_type": "code",
      "source": "# Download and read the `spacex_launch_geo.csv`\nfrom js import fetch\nimport io\n\nURL = 'https://cf-courses-data.s3.us.cloud-object-storage.appdomain.cloud/IBM-DS0321EN-SkillsNetwork/datasets/spacex_launch_geo.csv'\nresp = await fetch(URL)\nspacex_csv_file = io.BytesIO((await resp.arrayBuffer()).to_py())\nspacex_df=pd.read_csv(spacex_csv_file)\nspacex_df.head()\n",
      "metadata": {
        "trusted": true
      },
      "outputs": [
        {
          "execution_count": 38,
          "output_type": "execute_result",
          "data": {
            "text/plain": "   Flight Number        Date Time (UTC) Booster Version  Launch Site  \\\n0              1  2010-06-04   18:45:00  F9 v1.0  B0003  CCAFS LC-40   \n1              2  2010-12-08   15:43:00  F9 v1.0  B0004  CCAFS LC-40   \n2              3  2012-05-22    7:44:00  F9 v1.0  B0005  CCAFS LC-40   \n3              4  2012-10-08    0:35:00  F9 v1.0  B0006  CCAFS LC-40   \n4              5  2013-03-01   15:10:00  F9 v1.0  B0007  CCAFS LC-40   \n\n                                             Payload  Payload Mass (kg)  \\\n0               Dragon Spacecraft Qualification Unit                0.0   \n1  Dragon demo flight C1, two CubeSats,  barrel o...                0.0   \n2                             Dragon demo flight C2+              525.0   \n3                                       SpaceX CRS-1              500.0   \n4                                       SpaceX CRS-2              677.0   \n\n       Orbit         Customer        Landing Outcome  class        Lat  \\\n0        LEO           SpaceX  Failure   (parachute)      0  28.562302   \n1  LEO (ISS)  NASA (COTS) NRO  Failure   (parachute)      0  28.562302   \n2  LEO (ISS)      NASA (COTS)             No attempt      0  28.562302   \n3  LEO (ISS)       NASA (CRS)             No attempt      0  28.562302   \n4  LEO (ISS)       NASA (CRS)             No attempt      0  28.562302   \n\n        Long  \n0 -80.577356  \n1 -80.577356  \n2 -80.577356  \n3 -80.577356  \n4 -80.577356  ",
            "text/html": "<div>\n<style scoped>\n    .dataframe tbody tr th:only-of-type {\n        vertical-align: middle;\n    }\n\n    .dataframe tbody tr th {\n        vertical-align: top;\n    }\n\n    .dataframe thead th {\n        text-align: right;\n    }\n</style>\n<table border=\"1\" class=\"dataframe\">\n  <thead>\n    <tr style=\"text-align: right;\">\n      <th></th>\n      <th>Flight Number</th>\n      <th>Date</th>\n      <th>Time (UTC)</th>\n      <th>Booster Version</th>\n      <th>Launch Site</th>\n      <th>Payload</th>\n      <th>Payload Mass (kg)</th>\n      <th>Orbit</th>\n      <th>Customer</th>\n      <th>Landing Outcome</th>\n      <th>class</th>\n      <th>Lat</th>\n      <th>Long</th>\n    </tr>\n  </thead>\n  <tbody>\n    <tr>\n      <th>0</th>\n      <td>1</td>\n      <td>2010-06-04</td>\n      <td>18:45:00</td>\n      <td>F9 v1.0  B0003</td>\n      <td>CCAFS LC-40</td>\n      <td>Dragon Spacecraft Qualification Unit</td>\n      <td>0.0</td>\n      <td>LEO</td>\n      <td>SpaceX</td>\n      <td>Failure   (parachute)</td>\n      <td>0</td>\n      <td>28.562302</td>\n      <td>-80.577356</td>\n    </tr>\n    <tr>\n      <th>1</th>\n      <td>2</td>\n      <td>2010-12-08</td>\n      <td>15:43:00</td>\n      <td>F9 v1.0  B0004</td>\n      <td>CCAFS LC-40</td>\n      <td>Dragon demo flight C1, two CubeSats,  barrel o...</td>\n      <td>0.0</td>\n      <td>LEO (ISS)</td>\n      <td>NASA (COTS) NRO</td>\n      <td>Failure   (parachute)</td>\n      <td>0</td>\n      <td>28.562302</td>\n      <td>-80.577356</td>\n    </tr>\n    <tr>\n      <th>2</th>\n      <td>3</td>\n      <td>2012-05-22</td>\n      <td>7:44:00</td>\n      <td>F9 v1.0  B0005</td>\n      <td>CCAFS LC-40</td>\n      <td>Dragon demo flight C2+</td>\n      <td>525.0</td>\n      <td>LEO (ISS)</td>\n      <td>NASA (COTS)</td>\n      <td>No attempt</td>\n      <td>0</td>\n      <td>28.562302</td>\n      <td>-80.577356</td>\n    </tr>\n    <tr>\n      <th>3</th>\n      <td>4</td>\n      <td>2012-10-08</td>\n      <td>0:35:00</td>\n      <td>F9 v1.0  B0006</td>\n      <td>CCAFS LC-40</td>\n      <td>SpaceX CRS-1</td>\n      <td>500.0</td>\n      <td>LEO (ISS)</td>\n      <td>NASA (CRS)</td>\n      <td>No attempt</td>\n      <td>0</td>\n      <td>28.562302</td>\n      <td>-80.577356</td>\n    </tr>\n    <tr>\n      <th>4</th>\n      <td>5</td>\n      <td>2013-03-01</td>\n      <td>15:10:00</td>\n      <td>F9 v1.0  B0007</td>\n      <td>CCAFS LC-40</td>\n      <td>SpaceX CRS-2</td>\n      <td>677.0</td>\n      <td>LEO (ISS)</td>\n      <td>NASA (CRS)</td>\n      <td>No attempt</td>\n      <td>0</td>\n      <td>28.562302</td>\n      <td>-80.577356</td>\n    </tr>\n  </tbody>\n</table>\n</div>"
          },
          "metadata": {}
        }
      ],
      "execution_count": 38
    },
    {
      "cell_type": "markdown",
      "source": "Now, you can take a look at what are the coordinates for each site.\n",
      "metadata": {}
    },
    {
      "cell_type": "code",
      "source": "spacex_df=spacex_df = spacex_df[['Launch Site', 'Lat', 'Long']]\nlaunch_site=spacex_df.groupby(['Launch Site'],as_index=False).first()\nlaunch_site.head()",
      "metadata": {
        "trusted": true
      },
      "outputs": [
        {
          "execution_count": 6,
          "output_type": "execute_result",
          "data": {
            "text/plain": "    Launch Site        Lat        Long\n0   CCAFS LC-40  28.562302  -80.577356\n1  CCAFS SLC-40  28.563197  -80.576820\n2    KSC LC-39A  28.573255  -80.646895\n3   VAFB SLC-4E  34.632834 -120.610745",
            "text/html": "<div>\n<style scoped>\n    .dataframe tbody tr th:only-of-type {\n        vertical-align: middle;\n    }\n\n    .dataframe tbody tr th {\n        vertical-align: top;\n    }\n\n    .dataframe thead th {\n        text-align: right;\n    }\n</style>\n<table border=\"1\" class=\"dataframe\">\n  <thead>\n    <tr style=\"text-align: right;\">\n      <th></th>\n      <th>Launch Site</th>\n      <th>Lat</th>\n      <th>Long</th>\n    </tr>\n  </thead>\n  <tbody>\n    <tr>\n      <th>0</th>\n      <td>CCAFS LC-40</td>\n      <td>28.562302</td>\n      <td>-80.577356</td>\n    </tr>\n    <tr>\n      <th>1</th>\n      <td>CCAFS SLC-40</td>\n      <td>28.563197</td>\n      <td>-80.576820</td>\n    </tr>\n    <tr>\n      <th>2</th>\n      <td>KSC LC-39A</td>\n      <td>28.573255</td>\n      <td>-80.646895</td>\n    </tr>\n    <tr>\n      <th>3</th>\n      <td>VAFB SLC-4E</td>\n      <td>34.632834</td>\n      <td>-120.610745</td>\n    </tr>\n  </tbody>\n</table>\n</div>"
          },
          "metadata": {}
        }
      ],
      "execution_count": 6
    },
    {
      "cell_type": "code",
      "source": "# Select relevant sub-columns: `Launch Site`, `Lat(Latitude)`, `Long(Longitude)`, `class`\nspacex_df = spacex_df[['Launch Site', 'Lat', 'Long','class' ]]\nlaunch_sites_df = spacex_df.groupby(['Launch Site'], as_index=False).first()\nlaunch_sites_df = launch_sites_df[['Launch Site', 'Lat', 'Long']]\nspacex_df.head()",
      "metadata": {
        "trusted": true
      },
      "outputs": [
        {
          "execution_count": 51,
          "output_type": "execute_result",
          "data": {
            "text/plain": "   Launch Site        Lat       Long  class\n0  CCAFS LC-40  28.562302 -80.577356      0\n1  CCAFS LC-40  28.562302 -80.577356      0\n2  CCAFS LC-40  28.562302 -80.577356      0\n3  CCAFS LC-40  28.562302 -80.577356      0\n4  CCAFS LC-40  28.562302 -80.577356      0",
            "text/html": "<div>\n<style scoped>\n    .dataframe tbody tr th:only-of-type {\n        vertical-align: middle;\n    }\n\n    .dataframe tbody tr th {\n        vertical-align: top;\n    }\n\n    .dataframe thead th {\n        text-align: right;\n    }\n</style>\n<table border=\"1\" class=\"dataframe\">\n  <thead>\n    <tr style=\"text-align: right;\">\n      <th></th>\n      <th>Launch Site</th>\n      <th>Lat</th>\n      <th>Long</th>\n      <th>class</th>\n    </tr>\n  </thead>\n  <tbody>\n    <tr>\n      <th>0</th>\n      <td>CCAFS LC-40</td>\n      <td>28.562302</td>\n      <td>-80.577356</td>\n      <td>0</td>\n    </tr>\n    <tr>\n      <th>1</th>\n      <td>CCAFS LC-40</td>\n      <td>28.562302</td>\n      <td>-80.577356</td>\n      <td>0</td>\n    </tr>\n    <tr>\n      <th>2</th>\n      <td>CCAFS LC-40</td>\n      <td>28.562302</td>\n      <td>-80.577356</td>\n      <td>0</td>\n    </tr>\n    <tr>\n      <th>3</th>\n      <td>CCAFS LC-40</td>\n      <td>28.562302</td>\n      <td>-80.577356</td>\n      <td>0</td>\n    </tr>\n    <tr>\n      <th>4</th>\n      <td>CCAFS LC-40</td>\n      <td>28.562302</td>\n      <td>-80.577356</td>\n      <td>0</td>\n    </tr>\n  </tbody>\n</table>\n</div>"
          },
          "metadata": {}
        }
      ],
      "execution_count": 51
    },
    {
      "cell_type": "markdown",
      "source": "Above coordinates are just plain numbers that can not give you any intuitive insights about where are those launch sites. If you are very good at geography, you can interpret those numbers directly in your mind. If not, that's fine too. Let's visualize those locations by pinning them on a map.\n",
      "metadata": {}
    },
    {
      "cell_type": "markdown",
      "source": "We first need to create a folium `Map` object, with an initial center location to be NASA Johnson Space Center at Houston, Texas.\n",
      "metadata": {}
    },
    {
      "cell_type": "code",
      "source": "# Start location is NASA Johnson Space Center\nnasa_coordinate = [29.559684888503615, -95.0830971930759]\nsite_map = folium.Map(location=nasa_coordinate, zoom_start=10)",
      "metadata": {
        "trusted": true
      },
      "outputs": [],
      "execution_count": 9
    },
    {
      "cell_type": "markdown",
      "source": "We could use `folium.Circle` to add a highlighted circle area with a text label on a specific coordinate. For example,\n",
      "metadata": {}
    },
    {
      "cell_type": "code",
      "source": "circle=folium.Circle(nasa_coordinate,radius=1000,color='#d35400',fill=True).add_child(folium.Popup('NASA johnson Space Center'))\nmarker=folium.map.Marker(nasa_coordinate,icon=DivIcon(icon_size=(20,20),icon_anchor=(0,0),html='<div style=\"font>))",
      "metadata": {
        "trusted": true
      },
      "outputs": [],
      "execution_count": 15
    },
    {
      "cell_type": "code",
      "source": "# Create a blue circle at NASA Johnson Space Center's coordinate with a popup label showing its name\ncircle = folium.Circle(nasa_coordinate, radius=1000, color='#d35400', fill=True,popup='Nasa johs')\n# Create a blue circle at NASA Johnson Space Center's coordinate with a icon showing its name\nmarker = folium.map.Marker(\n    nasa_coordinate,\n    # Create an icon as a text label\n    icon=DivIcon(\n        icon_size=(20,20),\n        icon_anchor=(0,0),\n        html='<div style=\"font-size: 12; color:#d35400;\"><b>%s</b></div>' % 'NASA JSC',\n        )\n    )\nsite_map.add_child(circle)\nsite_map.add_child(marker)",
      "metadata": {
        "trusted": true
      },
      "outputs": [
        {
          "execution_count": 18,
          "output_type": "execute_result",
          "data": {
            "text/plain": "<folium.folium.Map at 0x3f2d580>",
            "text/html": "<div style=\"width:100%;\"><div style=\"position:relative;width:100%;height:0;padding-bottom:60%;\"><span style=\"color:#565656\">Make this Notebook Trusted to load map: File -> Trust Notebook</span><iframe srcdoc=\"&lt;!DOCTYPE html&gt;\n&lt;html&gt;\n&lt;head&gt;\n    \n    &lt;meta http-equiv=&quot;content-type&quot; content=&quot;text/html; charset=UTF-8&quot; /&gt;\n    \n        &lt;script&gt;\n            L_NO_TOUCH = false;\n            L_DISABLE_3D = false;\n        &lt;/script&gt;\n    \n    &lt;style&gt;html, body {width: 100%;height: 100%;margin: 0;padding: 0;}&lt;/style&gt;\n    &lt;style&gt;#map {position:absolute;top:0;bottom:0;right:0;left:0;}&lt;/style&gt;\n    &lt;script src=&quot;https://cdn.jsdelivr.net/npm/leaflet@1.9.3/dist/leaflet.js&quot;&gt;&lt;/script&gt;\n    &lt;script src=&quot;https://code.jquery.com/jquery-3.7.1.min.js&quot;&gt;&lt;/script&gt;\n    &lt;script src=&quot;https://cdn.jsdelivr.net/npm/bootstrap@5.2.2/dist/js/bootstrap.bundle.min.js&quot;&gt;&lt;/script&gt;\n    &lt;script src=&quot;https://cdnjs.cloudflare.com/ajax/libs/Leaflet.awesome-markers/2.0.2/leaflet.awesome-markers.js&quot;&gt;&lt;/script&gt;\n    &lt;link rel=&quot;stylesheet&quot; href=&quot;https://cdn.jsdelivr.net/npm/leaflet@1.9.3/dist/leaflet.css&quot;/&gt;\n    &lt;link rel=&quot;stylesheet&quot; href=&quot;https://cdn.jsdelivr.net/npm/bootstrap@5.2.2/dist/css/bootstrap.min.css&quot;/&gt;\n    &lt;link rel=&quot;stylesheet&quot; href=&quot;https://netdna.bootstrapcdn.com/bootstrap/3.0.0/css/bootstrap-glyphicons.css&quot;/&gt;\n    &lt;link rel=&quot;stylesheet&quot; href=&quot;https://cdn.jsdelivr.net/npm/@fortawesome/fontawesome-free@6.2.0/css/all.min.css&quot;/&gt;\n    &lt;link rel=&quot;stylesheet&quot; href=&quot;https://cdnjs.cloudflare.com/ajax/libs/Leaflet.awesome-markers/2.0.2/leaflet.awesome-markers.css&quot;/&gt;\n    &lt;link rel=&quot;stylesheet&quot; href=&quot;https://cdn.jsdelivr.net/gh/python-visualization/folium/folium/templates/leaflet.awesome.rotate.min.css&quot;/&gt;\n    \n            &lt;meta name=&quot;viewport&quot; content=&quot;width=device-width,\n                initial-scale=1.0, maximum-scale=1.0, user-scalable=no&quot; /&gt;\n            &lt;style&gt;\n                #map_7c4a65d60994b7dfc69e29cd2c902b93 {\n                    position: relative;\n                    width: 100.0%;\n                    height: 100.0%;\n                    left: 0.0%;\n                    top: 0.0%;\n                }\n                .leaflet-container { font-size: 1rem; }\n            &lt;/style&gt;\n        \n&lt;/head&gt;\n&lt;body&gt;\n    \n    \n            &lt;div class=&quot;folium-map&quot; id=&quot;map_7c4a65d60994b7dfc69e29cd2c902b93&quot; &gt;&lt;/div&gt;\n        \n&lt;/body&gt;\n&lt;script&gt;\n    \n    \n            var map_7c4a65d60994b7dfc69e29cd2c902b93 = L.map(\n                &quot;map_7c4a65d60994b7dfc69e29cd2c902b93&quot;,\n                {\n                    center: [29.559684888503615, -95.0830971930759],\n                    crs: L.CRS.EPSG3857,\n                    ...{\n  &quot;zoom&quot;: 10,\n  &quot;zoomControl&quot;: true,\n  &quot;preferCanvas&quot;: false,\n}\n\n                }\n            );\n\n            \n\n        \n    \n            var tile_layer_5949c06cf5c1bee43c9889f4049a4c34 = L.tileLayer(\n                &quot;https://tile.openstreetmap.org/{z}/{x}/{y}.png&quot;,\n                {\n  &quot;minZoom&quot;: 0,\n  &quot;maxZoom&quot;: 19,\n  &quot;maxNativeZoom&quot;: 19,\n  &quot;noWrap&quot;: false,\n  &quot;attribution&quot;: &quot;\\u0026copy; \\u003ca href=\\&quot;https://www.openstreetmap.org/copyright\\&quot;\\u003eOpenStreetMap\\u003c/a\\u003e contributors&quot;,\n  &quot;subdomains&quot;: &quot;abc&quot;,\n  &quot;detectRetina&quot;: false,\n  &quot;tms&quot;: false,\n  &quot;opacity&quot;: 1,\n}\n\n            );\n        \n    \n            tile_layer_5949c06cf5c1bee43c9889f4049a4c34.addTo(map_7c4a65d60994b7dfc69e29cd2c902b93);\n        \n    \n            var circle_c54b35f433e84edaa9c7c133af00b4ff = L.circle(\n                [29.559684888503615, -95.0830971930759],\n                {&quot;bubblingMouseEvents&quot;: true, &quot;color&quot;: &quot;#d35400&quot;, &quot;dashArray&quot;: null, &quot;dashOffset&quot;: null, &quot;fill&quot;: true, &quot;fillColor&quot;: &quot;#d35400&quot;, &quot;fillOpacity&quot;: 0.2, &quot;fillRule&quot;: &quot;evenodd&quot;, &quot;lineCap&quot;: &quot;round&quot;, &quot;lineJoin&quot;: &quot;round&quot;, &quot;opacity&quot;: 1.0, &quot;radius&quot;: 1000, &quot;stroke&quot;: true, &quot;weight&quot;: 3}\n            ).addTo(map_7c4a65d60994b7dfc69e29cd2c902b93);\n        \n    \n        var popup_0719a24e69f31282d56c31deca51a67d = L.popup({\n  &quot;maxWidth&quot;: &quot;100%&quot;,\n});\n\n        \n            \n                var html_6aa58729db4f095674ac9c59bf6001f7 = $(`&lt;div id=&quot;html_6aa58729db4f095674ac9c59bf6001f7&quot; style=&quot;width: 100.0%; height: 100.0%;&quot;&gt;NASA johnson Space Center&lt;/div&gt;`)[0];\n                popup_0719a24e69f31282d56c31deca51a67d.setContent(html_6aa58729db4f095674ac9c59bf6001f7);\n            \n        \n\n        circle_c54b35f433e84edaa9c7c133af00b4ff.bindPopup(popup_0719a24e69f31282d56c31deca51a67d)\n        ;\n\n        \n    \n    \n            tile_layer_5949c06cf5c1bee43c9889f4049a4c34.addTo(map_7c4a65d60994b7dfc69e29cd2c902b93);\n        \n    \n            var circle_5a6b975b650eef49f968cc3149030144 = L.circle(\n                [29.559684888503615, -95.0830971930759],\n                {&quot;bubblingMouseEvents&quot;: true, &quot;color&quot;: &quot;#d35400&quot;, &quot;dashArray&quot;: null, &quot;dashOffset&quot;: null, &quot;fill&quot;: true, &quot;fillColor&quot;: &quot;#d35400&quot;, &quot;fillOpacity&quot;: 0.2, &quot;fillRule&quot;: &quot;evenodd&quot;, &quot;lineCap&quot;: &quot;round&quot;, &quot;lineJoin&quot;: &quot;round&quot;, &quot;opacity&quot;: 1.0, &quot;radius&quot;: 1000, &quot;stroke&quot;: true, &quot;weight&quot;: 3}\n            ).addTo(map_7c4a65d60994b7dfc69e29cd2c902b93);\n        \n    \n        var popup_51e232a71e0ef21657be64dcdac22d2b = L.popup({\n  &quot;maxWidth&quot;: &quot;100%&quot;,\n});\n\n        \n            \n                var html_901c1a3a27fc1805a56d8f91d44e4903 = $(`&lt;div id=&quot;html_901c1a3a27fc1805a56d8f91d44e4903&quot; style=&quot;width: 100.0%; height: 100.0%;&quot;&gt;NASA johnson Space Center&lt;/div&gt;`)[0];\n                popup_51e232a71e0ef21657be64dcdac22d2b.setContent(html_901c1a3a27fc1805a56d8f91d44e4903);\n            \n        \n\n        circle_5a6b975b650eef49f968cc3149030144.bindPopup(popup_51e232a71e0ef21657be64dcdac22d2b)\n        ;\n\n        \n    \n    \n            tile_layer_5949c06cf5c1bee43c9889f4049a4c34.addTo(map_7c4a65d60994b7dfc69e29cd2c902b93);\n        \n    \n            var circle_45a912db07cf5a8a4a2ea3cd7a1e41f1 = L.circle(\n                [29.559684888503615, -95.0830971930759],\n                {&quot;bubblingMouseEvents&quot;: true, &quot;color&quot;: &quot;#d35400&quot;, &quot;dashArray&quot;: null, &quot;dashOffset&quot;: null, &quot;fill&quot;: true, &quot;fillColor&quot;: &quot;#d35400&quot;, &quot;fillOpacity&quot;: 0.2, &quot;fillRule&quot;: &quot;evenodd&quot;, &quot;lineCap&quot;: &quot;round&quot;, &quot;lineJoin&quot;: &quot;round&quot;, &quot;opacity&quot;: 1.0, &quot;radius&quot;: 1000, &quot;stroke&quot;: true, &quot;weight&quot;: 3}\n            ).addTo(map_7c4a65d60994b7dfc69e29cd2c902b93);\n        \n    \n        var popup_b31ec7f7274cdfc45a64f7d92a5118e5 = L.popup({\n  &quot;maxWidth&quot;: &quot;100%&quot;,\n});\n\n        \n            \n                var html_afdec008310bd0ae8b0bce4773162e83 = $(`&lt;div id=&quot;html_afdec008310bd0ae8b0bce4773162e83&quot; style=&quot;width: 100.0%; height: 100.0%;&quot;&gt;Nasa johs&lt;/div&gt;`)[0];\n                popup_b31ec7f7274cdfc45a64f7d92a5118e5.setContent(html_afdec008310bd0ae8b0bce4773162e83);\n            \n        \n\n        circle_45a912db07cf5a8a4a2ea3cd7a1e41f1.bindPopup(popup_b31ec7f7274cdfc45a64f7d92a5118e5)\n        ;\n\n        \n    \n    \n            var marker_81abf3ec4a078032558ea8c5eb974a1c = L.marker(\n                [29.559684888503615, -95.0830971930759],\n                {\n}\n            ).addTo(map_7c4a65d60994b7dfc69e29cd2c902b93);\n        \n    \n            var div_icon_d3f91780692c7f61ec051968c4e477f2 = L.divIcon({\n  &quot;html&quot;: &quot;\\u003cdiv style=\\&quot;font-size: 12; color:#d35400;\\&quot;\\u003e\\u003cb\\u003eNASA JSC\\u003c/b\\u003e\\u003c/div\\u003e&quot;,\n  &quot;iconSize&quot;: [20, 20],\n  &quot;iconAnchor&quot;: [0, 0],\n  &quot;className&quot;: &quot;empty&quot;,\n});\n            marker_81abf3ec4a078032558ea8c5eb974a1c.setIcon(div_icon_d3f91780692c7f61ec051968c4e477f2);\n        \n&lt;/script&gt;\n&lt;/html&gt;\" style=\"position:absolute;width:100%;height:100%;left:0;top:0;border:none !important;\" allowfullscreen webkitallowfullscreen mozallowfullscreen></iframe></div></div>"
          },
          "metadata": {}
        }
      ],
      "execution_count": 18
    },
    {
      "cell_type": "code",
      "source": "for lat ,long in ()",
      "metadata": {
        "trusted": true
      },
      "outputs": [],
      "execution_count": null
    },
    {
      "cell_type": "markdown",
      "source": "and you should find a small yellow circle near the city of Houston and you can zoom-in to see a larger circle.\n",
      "metadata": {}
    },
    {
      "cell_type": "markdown",
      "source": "Now, let's add a circle for each launch site in data frame `launch_sites`\n",
      "metadata": {}
    },
    {
      "cell_type": "markdown",
      "source": "*TODO:*  Create and add `folium.Circle` and `folium.Marker` for each launch site on the site map\n",
      "metadata": {}
    },
    {
      "cell_type": "markdown",
      "source": "An example of folium.Circle:\n",
      "metadata": {}
    },
    {
      "cell_type": "markdown",
      "source": "`folium.Circle(coordinate, radius=1000, color='#000000', fill=True).add_child(folium.Popup(...))`\n",
      "metadata": {}
    },
    {
      "cell_type": "markdown",
      "source": "An example of folium.Marker:\n",
      "metadata": {}
    },
    {
      "cell_type": "markdown",
      "source": "`folium.map.Marker(coordinate, icon=DivIcon(icon_size=(20,20),icon_anchor=(0,0), html='<div style=\"font-size: 12; color:#d35400;\"><b>%s</b></div>' % 'label', ))`\n",
      "metadata": {}
    },
    {
      "cell_type": "code",
      "source": "launch_sites_df.columns",
      "metadata": {
        "trusted": true
      },
      "outputs": [
        {
          "execution_count": 23,
          "output_type": "execute_result",
          "data": {
            "text/plain": "Index(['Launch Site', 'Lat', 'Long'], dtype='object')"
          },
          "metadata": {}
        }
      ],
      "execution_count": 23
    },
    {
      "cell_type": "code",
      "source": "# Initial the map\nsite_map = folium.Map(location=nasa_coordinate, zoom_start=5)\n# For each launch site, add a Circle object based on its coordinate (Lat, Long) values. In addition, add Launch site name as a popup label\nfor lat,long,label in zip(launch_sites_df.Lat,launch_sites_df.Long,launch_sites_df['Launch Site']):\n    folium.Circle([lat,long],popup=label,color='red',radius=1000,fill=True,fill_color='blue').add_to(site_map)\nfor lat,long,label in zip(launch_sites_df.Lat,launch_sites_df.Long,launch_sites_df['Launch Site']):\n    folium.map.Marker([lat,long],icon=DivIcon(icon_size=(20,20),icon_anchor=(0,0),html='<div style=\"font-size: 12; color:#d35400;\"><b>%s</b></div>' % 'NASA JSC',)).add_to(site_map)\n\nsite_map\n",
      "metadata": {
        "trusted": true
      },
      "outputs": [
        {
          "execution_count": 34,
          "output_type": "execute_result",
          "data": {
            "text/plain": "<folium.folium.Map at 0x695dd78>",
            "text/html": "<div style=\"width:100%;\"><div style=\"position:relative;width:100%;height:0;padding-bottom:60%;\"><span style=\"color:#565656\">Make this Notebook Trusted to load map: File -> Trust Notebook</span><iframe srcdoc=\"&lt;!DOCTYPE html&gt;\n&lt;html&gt;\n&lt;head&gt;\n    \n    &lt;meta http-equiv=&quot;content-type&quot; content=&quot;text/html; charset=UTF-8&quot; /&gt;\n    \n        &lt;script&gt;\n            L_NO_TOUCH = false;\n            L_DISABLE_3D = false;\n        &lt;/script&gt;\n    \n    &lt;style&gt;html, body {width: 100%;height: 100%;margin: 0;padding: 0;}&lt;/style&gt;\n    &lt;style&gt;#map {position:absolute;top:0;bottom:0;right:0;left:0;}&lt;/style&gt;\n    &lt;script src=&quot;https://cdn.jsdelivr.net/npm/leaflet@1.9.3/dist/leaflet.js&quot;&gt;&lt;/script&gt;\n    &lt;script src=&quot;https://code.jquery.com/jquery-3.7.1.min.js&quot;&gt;&lt;/script&gt;\n    &lt;script src=&quot;https://cdn.jsdelivr.net/npm/bootstrap@5.2.2/dist/js/bootstrap.bundle.min.js&quot;&gt;&lt;/script&gt;\n    &lt;script src=&quot;https://cdnjs.cloudflare.com/ajax/libs/Leaflet.awesome-markers/2.0.2/leaflet.awesome-markers.js&quot;&gt;&lt;/script&gt;\n    &lt;link rel=&quot;stylesheet&quot; href=&quot;https://cdn.jsdelivr.net/npm/leaflet@1.9.3/dist/leaflet.css&quot;/&gt;\n    &lt;link rel=&quot;stylesheet&quot; href=&quot;https://cdn.jsdelivr.net/npm/bootstrap@5.2.2/dist/css/bootstrap.min.css&quot;/&gt;\n    &lt;link rel=&quot;stylesheet&quot; href=&quot;https://netdna.bootstrapcdn.com/bootstrap/3.0.0/css/bootstrap-glyphicons.css&quot;/&gt;\n    &lt;link rel=&quot;stylesheet&quot; href=&quot;https://cdn.jsdelivr.net/npm/@fortawesome/fontawesome-free@6.2.0/css/all.min.css&quot;/&gt;\n    &lt;link rel=&quot;stylesheet&quot; href=&quot;https://cdnjs.cloudflare.com/ajax/libs/Leaflet.awesome-markers/2.0.2/leaflet.awesome-markers.css&quot;/&gt;\n    &lt;link rel=&quot;stylesheet&quot; href=&quot;https://cdn.jsdelivr.net/gh/python-visualization/folium/folium/templates/leaflet.awesome.rotate.min.css&quot;/&gt;\n    \n            &lt;meta name=&quot;viewport&quot; content=&quot;width=device-width,\n                initial-scale=1.0, maximum-scale=1.0, user-scalable=no&quot; /&gt;\n            &lt;style&gt;\n                #map_b09b58f8c0c4bf34bb7ee7287bc20bde {\n                    position: relative;\n                    width: 100.0%;\n                    height: 100.0%;\n                    left: 0.0%;\n                    top: 0.0%;\n                }\n                .leaflet-container { font-size: 1rem; }\n            &lt;/style&gt;\n        \n&lt;/head&gt;\n&lt;body&gt;\n    \n    \n            &lt;div class=&quot;folium-map&quot; id=&quot;map_b09b58f8c0c4bf34bb7ee7287bc20bde&quot; &gt;&lt;/div&gt;\n        \n&lt;/body&gt;\n&lt;script&gt;\n    \n    \n            var map_b09b58f8c0c4bf34bb7ee7287bc20bde = L.map(\n                &quot;map_b09b58f8c0c4bf34bb7ee7287bc20bde&quot;,\n                {\n                    center: [29.559684888503615, -95.0830971930759],\n                    crs: L.CRS.EPSG3857,\n                    ...{\n  &quot;zoom&quot;: 5,\n  &quot;zoomControl&quot;: true,\n  &quot;preferCanvas&quot;: false,\n}\n\n                }\n            );\n\n            \n\n        \n    \n            var tile_layer_478f8afd6b3419ceab72b8b7e683f0d8 = L.tileLayer(\n                &quot;https://tile.openstreetmap.org/{z}/{x}/{y}.png&quot;,\n                {\n  &quot;minZoom&quot;: 0,\n  &quot;maxZoom&quot;: 19,\n  &quot;maxNativeZoom&quot;: 19,\n  &quot;noWrap&quot;: false,\n  &quot;attribution&quot;: &quot;\\u0026copy; \\u003ca href=\\&quot;https://www.openstreetmap.org/copyright\\&quot;\\u003eOpenStreetMap\\u003c/a\\u003e contributors&quot;,\n  &quot;subdomains&quot;: &quot;abc&quot;,\n  &quot;detectRetina&quot;: false,\n  &quot;tms&quot;: false,\n  &quot;opacity&quot;: 1,\n}\n\n            );\n        \n    \n            tile_layer_478f8afd6b3419ceab72b8b7e683f0d8.addTo(map_b09b58f8c0c4bf34bb7ee7287bc20bde);\n        \n    \n            var circle_c84d9fb6bef584be58eed5c6176428b5 = L.circle(\n                [28.56230197, -80.57735648],\n                {&quot;bubblingMouseEvents&quot;: true, &quot;color&quot;: &quot;red&quot;, &quot;dashArray&quot;: null, &quot;dashOffset&quot;: null, &quot;fill&quot;: true, &quot;fillColor&quot;: &quot;blue&quot;, &quot;fillOpacity&quot;: 0.2, &quot;fillRule&quot;: &quot;evenodd&quot;, &quot;lineCap&quot;: &quot;round&quot;, &quot;lineJoin&quot;: &quot;round&quot;, &quot;opacity&quot;: 1.0, &quot;radius&quot;: 1000, &quot;stroke&quot;: true, &quot;weight&quot;: 3}\n            ).addTo(map_b09b58f8c0c4bf34bb7ee7287bc20bde);\n        \n    \n        var popup_8ffb325415105a04da8a600957dfae57 = L.popup({\n  &quot;maxWidth&quot;: &quot;100%&quot;,\n});\n\n        \n            \n                var html_dadf5201231c93356117190050373ada = $(`&lt;div id=&quot;html_dadf5201231c93356117190050373ada&quot; style=&quot;width: 100.0%; height: 100.0%;&quot;&gt;CCAFS LC-40&lt;/div&gt;`)[0];\n                popup_8ffb325415105a04da8a600957dfae57.setContent(html_dadf5201231c93356117190050373ada);\n            \n        \n\n        circle_c84d9fb6bef584be58eed5c6176428b5.bindPopup(popup_8ffb325415105a04da8a600957dfae57)\n        ;\n\n        \n    \n    \n            var circle_c20c726197945a0600304dca54d6fbb0 = L.circle(\n                [28.56319718, -80.57682003],\n                {&quot;bubblingMouseEvents&quot;: true, &quot;color&quot;: &quot;red&quot;, &quot;dashArray&quot;: null, &quot;dashOffset&quot;: null, &quot;fill&quot;: true, &quot;fillColor&quot;: &quot;blue&quot;, &quot;fillOpacity&quot;: 0.2, &quot;fillRule&quot;: &quot;evenodd&quot;, &quot;lineCap&quot;: &quot;round&quot;, &quot;lineJoin&quot;: &quot;round&quot;, &quot;opacity&quot;: 1.0, &quot;radius&quot;: 1000, &quot;stroke&quot;: true, &quot;weight&quot;: 3}\n            ).addTo(map_b09b58f8c0c4bf34bb7ee7287bc20bde);\n        \n    \n        var popup_fcb0d5f427651719cda8647546ca82eb = L.popup({\n  &quot;maxWidth&quot;: &quot;100%&quot;,\n});\n\n        \n            \n                var html_3db871ea931f3ff41f2940b813328cf1 = $(`&lt;div id=&quot;html_3db871ea931f3ff41f2940b813328cf1&quot; style=&quot;width: 100.0%; height: 100.0%;&quot;&gt;CCAFS SLC-40&lt;/div&gt;`)[0];\n                popup_fcb0d5f427651719cda8647546ca82eb.setContent(html_3db871ea931f3ff41f2940b813328cf1);\n            \n        \n\n        circle_c20c726197945a0600304dca54d6fbb0.bindPopup(popup_fcb0d5f427651719cda8647546ca82eb)\n        ;\n\n        \n    \n    \n            var circle_ed40d1c0ef08658d32de1a49c45fa624 = L.circle(\n                [28.57325457, -80.64689529],\n                {&quot;bubblingMouseEvents&quot;: true, &quot;color&quot;: &quot;red&quot;, &quot;dashArray&quot;: null, &quot;dashOffset&quot;: null, &quot;fill&quot;: true, &quot;fillColor&quot;: &quot;blue&quot;, &quot;fillOpacity&quot;: 0.2, &quot;fillRule&quot;: &quot;evenodd&quot;, &quot;lineCap&quot;: &quot;round&quot;, &quot;lineJoin&quot;: &quot;round&quot;, &quot;opacity&quot;: 1.0, &quot;radius&quot;: 1000, &quot;stroke&quot;: true, &quot;weight&quot;: 3}\n            ).addTo(map_b09b58f8c0c4bf34bb7ee7287bc20bde);\n        \n    \n        var popup_378f3f28b1a5a7935be73fdb98703b22 = L.popup({\n  &quot;maxWidth&quot;: &quot;100%&quot;,\n});\n\n        \n            \n                var html_f9cb7b588090767b65821bea8c33ab21 = $(`&lt;div id=&quot;html_f9cb7b588090767b65821bea8c33ab21&quot; style=&quot;width: 100.0%; height: 100.0%;&quot;&gt;KSC LC-39A&lt;/div&gt;`)[0];\n                popup_378f3f28b1a5a7935be73fdb98703b22.setContent(html_f9cb7b588090767b65821bea8c33ab21);\n            \n        \n\n        circle_ed40d1c0ef08658d32de1a49c45fa624.bindPopup(popup_378f3f28b1a5a7935be73fdb98703b22)\n        ;\n\n        \n    \n    \n            var circle_f0b6be3fa5f67e0e90e3d526e22f267b = L.circle(\n                [34.63283416, -120.6107455],\n                {&quot;bubblingMouseEvents&quot;: true, &quot;color&quot;: &quot;red&quot;, &quot;dashArray&quot;: null, &quot;dashOffset&quot;: null, &quot;fill&quot;: true, &quot;fillColor&quot;: &quot;blue&quot;, &quot;fillOpacity&quot;: 0.2, &quot;fillRule&quot;: &quot;evenodd&quot;, &quot;lineCap&quot;: &quot;round&quot;, &quot;lineJoin&quot;: &quot;round&quot;, &quot;opacity&quot;: 1.0, &quot;radius&quot;: 1000, &quot;stroke&quot;: true, &quot;weight&quot;: 3}\n            ).addTo(map_b09b58f8c0c4bf34bb7ee7287bc20bde);\n        \n    \n        var popup_6e91cbc877d7fc61bffc7d33626a6205 = L.popup({\n  &quot;maxWidth&quot;: &quot;100%&quot;,\n});\n\n        \n            \n                var html_9836d4854b5537a45d172c2c456323b5 = $(`&lt;div id=&quot;html_9836d4854b5537a45d172c2c456323b5&quot; style=&quot;width: 100.0%; height: 100.0%;&quot;&gt;VAFB SLC-4E&lt;/div&gt;`)[0];\n                popup_6e91cbc877d7fc61bffc7d33626a6205.setContent(html_9836d4854b5537a45d172c2c456323b5);\n            \n        \n\n        circle_f0b6be3fa5f67e0e90e3d526e22f267b.bindPopup(popup_6e91cbc877d7fc61bffc7d33626a6205)\n        ;\n\n        \n    \n    \n            var marker_2dd7d821e9df5c9a0c467e979a794d2c = L.marker(\n                [28.56230197, -80.57735648],\n                {\n}\n            ).addTo(map_b09b58f8c0c4bf34bb7ee7287bc20bde);\n        \n    \n            var div_icon_4cfef18381d99e374e25cb7cd6f8b155 = L.divIcon({\n  &quot;html&quot;: &quot;\\u003cdiv style=\\&quot;font-size: 12; color:#d35400;\\&quot;\\u003e\\u003cb\\u003eNASA JSC\\u003c/b\\u003e\\u003c/div\\u003e&quot;,\n  &quot;iconSize&quot;: [20, 20],\n  &quot;iconAnchor&quot;: [0, 0],\n  &quot;className&quot;: &quot;empty&quot;,\n});\n            marker_2dd7d821e9df5c9a0c467e979a794d2c.setIcon(div_icon_4cfef18381d99e374e25cb7cd6f8b155);\n        \n    \n            var marker_01527ec1a17d53b078ec0c1b698e1716 = L.marker(\n                [28.56319718, -80.57682003],\n                {\n}\n            ).addTo(map_b09b58f8c0c4bf34bb7ee7287bc20bde);\n        \n    \n            var div_icon_9c77c8b99513a84f10196cf9b5a17999 = L.divIcon({\n  &quot;html&quot;: &quot;\\u003cdiv style=\\&quot;font-size: 12; color:#d35400;\\&quot;\\u003e\\u003cb\\u003eNASA JSC\\u003c/b\\u003e\\u003c/div\\u003e&quot;,\n  &quot;iconSize&quot;: [20, 20],\n  &quot;iconAnchor&quot;: [0, 0],\n  &quot;className&quot;: &quot;empty&quot;,\n});\n            marker_01527ec1a17d53b078ec0c1b698e1716.setIcon(div_icon_9c77c8b99513a84f10196cf9b5a17999);\n        \n    \n            var marker_b5f5788b37a0a7b737f14c38ea69472c = L.marker(\n                [28.57325457, -80.64689529],\n                {\n}\n            ).addTo(map_b09b58f8c0c4bf34bb7ee7287bc20bde);\n        \n    \n            var div_icon_f70a69fcea8a8acae98a6e4c9847d553 = L.divIcon({\n  &quot;html&quot;: &quot;\\u003cdiv style=\\&quot;font-size: 12; color:#d35400;\\&quot;\\u003e\\u003cb\\u003eNASA JSC\\u003c/b\\u003e\\u003c/div\\u003e&quot;,\n  &quot;iconSize&quot;: [20, 20],\n  &quot;iconAnchor&quot;: [0, 0],\n  &quot;className&quot;: &quot;empty&quot;,\n});\n            marker_b5f5788b37a0a7b737f14c38ea69472c.setIcon(div_icon_f70a69fcea8a8acae98a6e4c9847d553);\n        \n    \n            var marker_ec6bf568ad3caa383dbb3ab436e90865 = L.marker(\n                [34.63283416, -120.6107455],\n                {\n}\n            ).addTo(map_b09b58f8c0c4bf34bb7ee7287bc20bde);\n        \n    \n            var div_icon_348bc980d2a63f6eff62714748fe701f = L.divIcon({\n  &quot;html&quot;: &quot;\\u003cdiv style=\\&quot;font-size: 12; color:#d35400;\\&quot;\\u003e\\u003cb\\u003eNASA JSC\\u003c/b\\u003e\\u003c/div\\u003e&quot;,\n  &quot;iconSize&quot;: [20, 20],\n  &quot;iconAnchor&quot;: [0, 0],\n  &quot;className&quot;: &quot;empty&quot;,\n});\n            marker_ec6bf568ad3caa383dbb3ab436e90865.setIcon(div_icon_348bc980d2a63f6eff62714748fe701f);\n        \n&lt;/script&gt;\n&lt;/html&gt;\" style=\"position:absolute;width:100%;height:100%;left:0;top:0;border:none !important;\" allowfullscreen webkitallowfullscreen mozallowfullscreen></iframe></div></div>"
          },
          "metadata": {}
        }
      ],
      "execution_count": 34
    },
    {
      "cell_type": "code",
      "source": "",
      "metadata": {
        "trusted": true
      },
      "outputs": [],
      "execution_count": null
    },
    {
      "cell_type": "markdown",
      "source": "The generated map with marked launch sites should look similar to the following:\n",
      "metadata": {}
    },
    {
      "cell_type": "markdown",
      "source": "<center>\n    <img src=\"https://cf-courses-data.s3.us.cloud-object-storage.appdomain.cloud/IBM-DS0321EN-SkillsNetwork/labs/module_3/images/launch_site_markers.png\">\n</center>\n",
      "metadata": {}
    },
    {
      "cell_type": "markdown",
      "source": "Now, you can explore the map by zoom-in/out the marked areas\n, and try to answer the following questions:\n\n*   Are all launch sites in proximity to the Equator line?\n*   Are all launch sites in very close proximity to the coast?\n\nAlso please try to explain your findings.\n",
      "metadata": {}
    },
    {
      "cell_type": "code",
      "source": "# Task 2: Mark the success/failed launches for each site on the map\n",
      "metadata": {},
      "outputs": [],
      "execution_count": null
    },
    {
      "cell_type": "markdown",
      "source": "Next, let's try to enhance the map by adding the launch outcomes for each site, and see which sites have high success rates.\nRecall that data frame spacex_df has detailed launch records, and the `class` column indicates if this launch was successful or not\n",
      "metadata": {}
    },
    {
      "cell_type": "code",
      "source": "spacex_df.tail(10)",
      "metadata": {},
      "outputs": [],
      "execution_count": null
    },
    {
      "cell_type": "markdown",
      "source": "Next, let's create markers for all launch records.\nIf a launch was successful `(class=1)`, then we use a green marker and if a launch was failed, we use a red marker `(class=0)`\n",
      "metadata": {}
    },
    {
      "cell_type": "markdown",
      "source": "Note that a launch only happens in one of the four launch sites, which means many launch records will have the exact same coordinate. Marker clusters can be a good way to simplify a map containing many markers having the same coordinate.\n",
      "metadata": {}
    },
    {
      "cell_type": "markdown",
      "source": "Let's first create a `MarkerCluster` object\n",
      "metadata": {}
    },
    {
      "cell_type": "code",
      "source": "marker_cluster = MarkerCluster()\n",
      "metadata": {
        "trusted": true
      },
      "outputs": [],
      "execution_count": 68
    },
    {
      "cell_type": "markdown",
      "source": "*TODO:* Create a new column in `spacex_df` dataframe called `marker_color` to store the marker colors based on the `class` value\n",
      "metadata": {}
    },
    {
      "cell_type": "code",
      "source": "",
      "metadata": {
        "trusted": true
      },
      "outputs": [],
      "execution_count": null
    },
    {
      "cell_type": "code",
      "source": "spacex_df['marker_color']=spacex_df['class'].apply(lambda x: 'green' if x==1 else 'red')\n",
      "metadata": {
        "trusted": true
      },
      "outputs": [],
      "execution_count": 85
    },
    {
      "cell_type": "code",
      "source": "\n# Apply a function to check the value of `class` column\n# If class=1, marker_color value will be green\n# If class=0, marker_color value will be red\ndef chek_color(Class):\n    if Class==1:\n        return 'green'\n    else:\n        return 'red'",
      "metadata": {
        "trusted": true
      },
      "outputs": [],
      "execution_count": 73
    },
    {
      "cell_type": "markdown",
      "source": "*TODO:* For each launch result in `spacex_df` data frame, add a `folium.Marker` to `marker_cluster`\n",
      "metadata": {}
    },
    {
      "cell_type": "code",
      "source": "spacex_df.head()",
      "metadata": {
        "trusted": true
      },
      "outputs": [
        {
          "execution_count": 86,
          "output_type": "execute_result",
          "data": {
            "text/plain": "  Launch Site      Lat     Lon  class marker_color\n0      Site A  28.5721 -80.648      1        green\n1      Site B  28.5632 -80.577      0          red\n2      Site C  28.5728 -80.649      1        green\n3      Site D  28.5623 -80.576      0          red\n4      Site E  28.5745 -80.650      1        green",
            "text/html": "<div>\n<style scoped>\n    .dataframe tbody tr th:only-of-type {\n        vertical-align: middle;\n    }\n\n    .dataframe tbody tr th {\n        vertical-align: top;\n    }\n\n    .dataframe thead th {\n        text-align: right;\n    }\n</style>\n<table border=\"1\" class=\"dataframe\">\n  <thead>\n    <tr style=\"text-align: right;\">\n      <th></th>\n      <th>Launch Site</th>\n      <th>Lat</th>\n      <th>Lon</th>\n      <th>class</th>\n      <th>marker_color</th>\n    </tr>\n  </thead>\n  <tbody>\n    <tr>\n      <th>0</th>\n      <td>Site A</td>\n      <td>28.5721</td>\n      <td>-80.648</td>\n      <td>1</td>\n      <td>green</td>\n    </tr>\n    <tr>\n      <th>1</th>\n      <td>Site B</td>\n      <td>28.5632</td>\n      <td>-80.577</td>\n      <td>0</td>\n      <td>red</td>\n    </tr>\n    <tr>\n      <th>2</th>\n      <td>Site C</td>\n      <td>28.5728</td>\n      <td>-80.649</td>\n      <td>1</td>\n      <td>green</td>\n    </tr>\n    <tr>\n      <th>3</th>\n      <td>Site D</td>\n      <td>28.5623</td>\n      <td>-80.576</td>\n      <td>0</td>\n      <td>red</td>\n    </tr>\n    <tr>\n      <th>4</th>\n      <td>Site E</td>\n      <td>28.5745</td>\n      <td>-80.650</td>\n      <td>1</td>\n      <td>green</td>\n    </tr>\n  </tbody>\n</table>\n</div>"
          },
          "metadata": {}
        }
      ],
      "execution_count": 86
    },
    {
      "cell_type": "code",
      "source": "from folium import plugins\nincidents = plugins.MarkerCluster().add_to(site_map)\n\nfor lat,lang,color,label in zip(spacex_df.Lat,spacex_df.Lon,spacex_df.marker_color,spacex_df['Launch Site']):\n    folium.Marker(location=[lat,lang],color=color,popup=label,icon=None).add_to(incidents)\nsite_map",
      "metadata": {
        "trusted": true
      },
      "outputs": [
        {
          "execution_count": 88,
          "output_type": "execute_result",
          "data": {
            "text/plain": "<folium.folium.Map at 0x7a7e208>",
            "text/html": "<div style=\"width:100%;\"><div style=\"position:relative;width:100%;height:0;padding-bottom:60%;\"><span style=\"color:#565656\">Make this Notebook Trusted to load map: File -> Trust Notebook</span><iframe srcdoc=\"&lt;!DOCTYPE html&gt;\n&lt;html&gt;\n&lt;head&gt;\n    \n    &lt;meta http-equiv=&quot;content-type&quot; content=&quot;text/html; charset=UTF-8&quot; /&gt;\n    \n        &lt;script&gt;\n            L_NO_TOUCH = false;\n            L_DISABLE_3D = false;\n        &lt;/script&gt;\n    \n    &lt;style&gt;html, body {width: 100%;height: 100%;margin: 0;padding: 0;}&lt;/style&gt;\n    &lt;style&gt;#map {position:absolute;top:0;bottom:0;right:0;left:0;}&lt;/style&gt;\n    &lt;script src=&quot;https://cdn.jsdelivr.net/npm/leaflet@1.9.3/dist/leaflet.js&quot;&gt;&lt;/script&gt;\n    &lt;script src=&quot;https://code.jquery.com/jquery-3.7.1.min.js&quot;&gt;&lt;/script&gt;\n    &lt;script src=&quot;https://cdn.jsdelivr.net/npm/bootstrap@5.2.2/dist/js/bootstrap.bundle.min.js&quot;&gt;&lt;/script&gt;\n    &lt;script src=&quot;https://cdnjs.cloudflare.com/ajax/libs/Leaflet.awesome-markers/2.0.2/leaflet.awesome-markers.js&quot;&gt;&lt;/script&gt;\n    &lt;link rel=&quot;stylesheet&quot; href=&quot;https://cdn.jsdelivr.net/npm/leaflet@1.9.3/dist/leaflet.css&quot;/&gt;\n    &lt;link rel=&quot;stylesheet&quot; href=&quot;https://cdn.jsdelivr.net/npm/bootstrap@5.2.2/dist/css/bootstrap.min.css&quot;/&gt;\n    &lt;link rel=&quot;stylesheet&quot; href=&quot;https://netdna.bootstrapcdn.com/bootstrap/3.0.0/css/bootstrap-glyphicons.css&quot;/&gt;\n    &lt;link rel=&quot;stylesheet&quot; href=&quot;https://cdn.jsdelivr.net/npm/@fortawesome/fontawesome-free@6.2.0/css/all.min.css&quot;/&gt;\n    &lt;link rel=&quot;stylesheet&quot; href=&quot;https://cdnjs.cloudflare.com/ajax/libs/Leaflet.awesome-markers/2.0.2/leaflet.awesome-markers.css&quot;/&gt;\n    &lt;link rel=&quot;stylesheet&quot; href=&quot;https://cdn.jsdelivr.net/gh/python-visualization/folium/folium/templates/leaflet.awesome.rotate.min.css&quot;/&gt;\n    \n            &lt;meta name=&quot;viewport&quot; content=&quot;width=device-width,\n                initial-scale=1.0, maximum-scale=1.0, user-scalable=no&quot; /&gt;\n            &lt;style&gt;\n                #map_a2cb3feefeb6a0e8715d64962809c791 {\n                    position: relative;\n                    width: 100.0%;\n                    height: 100.0%;\n                    left: 0.0%;\n                    top: 0.0%;\n                }\n                .leaflet-container { font-size: 1rem; }\n            &lt;/style&gt;\n        \n    &lt;script src=&quot;https://cdnjs.cloudflare.com/ajax/libs/leaflet.markercluster/1.1.0/leaflet.markercluster.js&quot;&gt;&lt;/script&gt;\n    &lt;link rel=&quot;stylesheet&quot; href=&quot;https://cdnjs.cloudflare.com/ajax/libs/leaflet.markercluster/1.1.0/MarkerCluster.css&quot;/&gt;\n    &lt;link rel=&quot;stylesheet&quot; href=&quot;https://cdnjs.cloudflare.com/ajax/libs/leaflet.markercluster/1.1.0/MarkerCluster.Default.css&quot;/&gt;\n&lt;/head&gt;\n&lt;body&gt;\n    \n    \n            &lt;div class=&quot;folium-map&quot; id=&quot;map_a2cb3feefeb6a0e8715d64962809c791&quot; &gt;&lt;/div&gt;\n        \n&lt;/body&gt;\n&lt;script&gt;\n    \n    \n            var map_a2cb3feefeb6a0e8715d64962809c791 = L.map(\n                &quot;map_a2cb3feefeb6a0e8715d64962809c791&quot;,\n                {\n                    center: [28.56898, -80.62],\n                    crs: L.CRS.EPSG3857,\n                    ...{\n  &quot;zoom&quot;: 10,\n  &quot;zoomControl&quot;: true,\n  &quot;preferCanvas&quot;: false,\n}\n\n                }\n            );\n\n            \n\n        \n    \n            var tile_layer_1e8fdc2f86e88146548a9abc41947a09 = L.tileLayer(\n                &quot;https://tile.openstreetmap.org/{z}/{x}/{y}.png&quot;,\n                {\n  &quot;minZoom&quot;: 0,\n  &quot;maxZoom&quot;: 19,\n  &quot;maxNativeZoom&quot;: 19,\n  &quot;noWrap&quot;: false,\n  &quot;attribution&quot;: &quot;\\u0026copy; \\u003ca href=\\&quot;https://www.openstreetmap.org/copyright\\&quot;\\u003eOpenStreetMap\\u003c/a\\u003e contributors&quot;,\n  &quot;subdomains&quot;: &quot;abc&quot;,\n  &quot;detectRetina&quot;: false,\n  &quot;tms&quot;: false,\n  &quot;opacity&quot;: 1,\n}\n\n            );\n        \n    \n            tile_layer_1e8fdc2f86e88146548a9abc41947a09.addTo(map_a2cb3feefeb6a0e8715d64962809c791);\n        \n    \n            var marker_cluster_592ee53cb7dbe83644ff369316b58fe4 = L.markerClusterGroup(\n                {\n}\n            );\n        \n    \n            var marker_f571251ad4719dd37f61e437606496a9 = L.marker(\n                [28.5721, -80.648],\n                {\n}\n            ).addTo(marker_cluster_592ee53cb7dbe83644ff369316b58fe4);\n        \n    \n            var icon_4fd7722705a1c1864e6737f0c860b9a8 = L.AwesomeMarkers.icon(\n                {\n  &quot;markerColor&quot;: &quot;green&quot;,\n  &quot;iconColor&quot;: &quot;white&quot;,\n  &quot;icon&quot;: &quot;rocket&quot;,\n  &quot;prefix&quot;: &quot;fa&quot;,\n  &quot;extraClasses&quot;: &quot;fa-rotate-0&quot;,\n}\n            );\n            marker_f571251ad4719dd37f61e437606496a9.setIcon(icon_4fd7722705a1c1864e6737f0c860b9a8);\n        \n    \n        var popup_85c87f33661637a2d5f0d32209b484bd = L.popup({\n  &quot;maxWidth&quot;: 300,\n});\n\n        \n            \n                var html_2a8343443ca47eec60f78912fe9b957d = $(`&lt;div id=&quot;html_2a8343443ca47eec60f78912fe9b957d&quot; style=&quot;width: 100.0%; height: 100.0%;&quot;&gt;&lt;b&gt;Launch Site:&lt;/b&gt; Site A&lt;br&gt;&lt;b&gt;Result:&lt;/b&gt; Success&lt;/div&gt;`)[0];\n                popup_85c87f33661637a2d5f0d32209b484bd.setContent(html_2a8343443ca47eec60f78912fe9b957d);\n            \n        \n\n        marker_f571251ad4719dd37f61e437606496a9.bindPopup(popup_85c87f33661637a2d5f0d32209b484bd)\n        ;\n\n        \n    \n    \n            var marker_8a09ec3e87c2bc9de18e3293b04cc9bb = L.marker(\n                [28.5632, -80.577],\n                {\n}\n            ).addTo(marker_cluster_592ee53cb7dbe83644ff369316b58fe4);\n        \n    \n            var icon_eb18ef910496633d5920d0f7c4945bb9 = L.AwesomeMarkers.icon(\n                {\n  &quot;markerColor&quot;: &quot;red&quot;,\n  &quot;iconColor&quot;: &quot;white&quot;,\n  &quot;icon&quot;: &quot;remove&quot;,\n  &quot;prefix&quot;: &quot;fa&quot;,\n  &quot;extraClasses&quot;: &quot;fa-rotate-0&quot;,\n}\n            );\n            marker_8a09ec3e87c2bc9de18e3293b04cc9bb.setIcon(icon_eb18ef910496633d5920d0f7c4945bb9);\n        \n    \n        var popup_5ae22f9b91a0ba5c39ffbc30e79f193c = L.popup({\n  &quot;maxWidth&quot;: 300,\n});\n\n        \n            \n                var html_a9b25cf3c4cdb376a749689189e4ba4b = $(`&lt;div id=&quot;html_a9b25cf3c4cdb376a749689189e4ba4b&quot; style=&quot;width: 100.0%; height: 100.0%;&quot;&gt;&lt;b&gt;Launch Site:&lt;/b&gt; Site B&lt;br&gt;&lt;b&gt;Result:&lt;/b&gt; Failure&lt;/div&gt;`)[0];\n                popup_5ae22f9b91a0ba5c39ffbc30e79f193c.setContent(html_a9b25cf3c4cdb376a749689189e4ba4b);\n            \n        \n\n        marker_8a09ec3e87c2bc9de18e3293b04cc9bb.bindPopup(popup_5ae22f9b91a0ba5c39ffbc30e79f193c)\n        ;\n\n        \n    \n    \n            var marker_5e0fc364320339c40b5e0654cc3c3d8d = L.marker(\n                [28.5728, -80.649],\n                {\n}\n            ).addTo(marker_cluster_592ee53cb7dbe83644ff369316b58fe4);\n        \n    \n            var icon_0b1998e30b085543ec5ea44d734d1c23 = L.AwesomeMarkers.icon(\n                {\n  &quot;markerColor&quot;: &quot;green&quot;,\n  &quot;iconColor&quot;: &quot;white&quot;,\n  &quot;icon&quot;: &quot;rocket&quot;,\n  &quot;prefix&quot;: &quot;fa&quot;,\n  &quot;extraClasses&quot;: &quot;fa-rotate-0&quot;,\n}\n            );\n            marker_5e0fc364320339c40b5e0654cc3c3d8d.setIcon(icon_0b1998e30b085543ec5ea44d734d1c23);\n        \n    \n        var popup_eda16e127272e54216e6d04a7a0da633 = L.popup({\n  &quot;maxWidth&quot;: 300,\n});\n\n        \n            \n                var html_1faff9f1de165074ebb8737d1caf5cdd = $(`&lt;div id=&quot;html_1faff9f1de165074ebb8737d1caf5cdd&quot; style=&quot;width: 100.0%; height: 100.0%;&quot;&gt;&lt;b&gt;Launch Site:&lt;/b&gt; Site C&lt;br&gt;&lt;b&gt;Result:&lt;/b&gt; Success&lt;/div&gt;`)[0];\n                popup_eda16e127272e54216e6d04a7a0da633.setContent(html_1faff9f1de165074ebb8737d1caf5cdd);\n            \n        \n\n        marker_5e0fc364320339c40b5e0654cc3c3d8d.bindPopup(popup_eda16e127272e54216e6d04a7a0da633)\n        ;\n\n        \n    \n    \n            var marker_05453b95b7c3160cd64f8abe9be6760e = L.marker(\n                [28.5623, -80.576],\n                {\n}\n            ).addTo(marker_cluster_592ee53cb7dbe83644ff369316b58fe4);\n        \n    \n            var icon_38ac0c66d29debb0951a8abb0c096835 = L.AwesomeMarkers.icon(\n                {\n  &quot;markerColor&quot;: &quot;red&quot;,\n  &quot;iconColor&quot;: &quot;white&quot;,\n  &quot;icon&quot;: &quot;remove&quot;,\n  &quot;prefix&quot;: &quot;fa&quot;,\n  &quot;extraClasses&quot;: &quot;fa-rotate-0&quot;,\n}\n            );\n            marker_05453b95b7c3160cd64f8abe9be6760e.setIcon(icon_38ac0c66d29debb0951a8abb0c096835);\n        \n    \n        var popup_264c9ec54b2ce528b24ae9359eae2b74 = L.popup({\n  &quot;maxWidth&quot;: 300,\n});\n\n        \n            \n                var html_6a87c545d426b24c43edfedfdac3b71b = $(`&lt;div id=&quot;html_6a87c545d426b24c43edfedfdac3b71b&quot; style=&quot;width: 100.0%; height: 100.0%;&quot;&gt;&lt;b&gt;Launch Site:&lt;/b&gt; Site D&lt;br&gt;&lt;b&gt;Result:&lt;/b&gt; Failure&lt;/div&gt;`)[0];\n                popup_264c9ec54b2ce528b24ae9359eae2b74.setContent(html_6a87c545d426b24c43edfedfdac3b71b);\n            \n        \n\n        marker_05453b95b7c3160cd64f8abe9be6760e.bindPopup(popup_264c9ec54b2ce528b24ae9359eae2b74)\n        ;\n\n        \n    \n    \n            var marker_4f570e22a0dfcc7a163fa2168aa3b9e9 = L.marker(\n                [28.5745, -80.65],\n                {\n}\n            ).addTo(marker_cluster_592ee53cb7dbe83644ff369316b58fe4);\n        \n    \n            var icon_73b8b589cf32d9ce5f9ff2a9116f50fb = L.AwesomeMarkers.icon(\n                {\n  &quot;markerColor&quot;: &quot;green&quot;,\n  &quot;iconColor&quot;: &quot;white&quot;,\n  &quot;icon&quot;: &quot;rocket&quot;,\n  &quot;prefix&quot;: &quot;fa&quot;,\n  &quot;extraClasses&quot;: &quot;fa-rotate-0&quot;,\n}\n            );\n            marker_4f570e22a0dfcc7a163fa2168aa3b9e9.setIcon(icon_73b8b589cf32d9ce5f9ff2a9116f50fb);\n        \n    \n        var popup_faa7e95e03b76ed30ff71e71c98c3751 = L.popup({\n  &quot;maxWidth&quot;: 300,\n});\n\n        \n            \n                var html_74225b2b780452cd87b6f166fdd811c2 = $(`&lt;div id=&quot;html_74225b2b780452cd87b6f166fdd811c2&quot; style=&quot;width: 100.0%; height: 100.0%;&quot;&gt;&lt;b&gt;Launch Site:&lt;/b&gt; Site E&lt;br&gt;&lt;b&gt;Result:&lt;/b&gt; Success&lt;/div&gt;`)[0];\n                popup_faa7e95e03b76ed30ff71e71c98c3751.setContent(html_74225b2b780452cd87b6f166fdd811c2);\n            \n        \n\n        marker_4f570e22a0dfcc7a163fa2168aa3b9e9.bindPopup(popup_faa7e95e03b76ed30ff71e71c98c3751)\n        ;\n\n        \n    \n    \n            marker_cluster_592ee53cb7dbe83644ff369316b58fe4.addTo(map_a2cb3feefeb6a0e8715d64962809c791);\n        \n    \n            tile_layer_1e8fdc2f86e88146548a9abc41947a09.addTo(map_a2cb3feefeb6a0e8715d64962809c791);\n        \n    \n            marker_cluster_592ee53cb7dbe83644ff369316b58fe4.addTo(map_a2cb3feefeb6a0e8715d64962809c791);\n        \n    \n            var marker_cluster_7114bccf5a90e49860676117bdee2ff5 = L.markerClusterGroup(\n                {\n}\n            );\n        \n    \n            marker_cluster_7114bccf5a90e49860676117bdee2ff5.addTo(map_a2cb3feefeb6a0e8715d64962809c791);\n        \n    \n            var marker_cluster_2c423f430e9fe68eb4dadebfa6d658f8 = L.markerClusterGroup(\n                {\n}\n            );\n        \n    \n            var marker_578d25988e50080d2f8cf91b7eae3e1b = L.marker(\n                [28.5721, -80.648],\n                {\n  &quot;color&quot;: &quot;green&quot;,\n}\n            ).addTo(marker_cluster_2c423f430e9fe68eb4dadebfa6d658f8);\n        \n    \n        var popup_1b7c687630a9901930c71daf4fa6f9e9 = L.popup({\n  &quot;maxWidth&quot;: &quot;100%&quot;,\n});\n\n        \n            \n                var html_9d950de0c2268fef9792a05d3417146a = $(`&lt;div id=&quot;html_9d950de0c2268fef9792a05d3417146a&quot; style=&quot;width: 100.0%; height: 100.0%;&quot;&gt;Site A&lt;/div&gt;`)[0];\n                popup_1b7c687630a9901930c71daf4fa6f9e9.setContent(html_9d950de0c2268fef9792a05d3417146a);\n            \n        \n\n        marker_578d25988e50080d2f8cf91b7eae3e1b.bindPopup(popup_1b7c687630a9901930c71daf4fa6f9e9)\n        ;\n\n        \n    \n    \n            var marker_364544e5e64d189585cb8ddef650341f = L.marker(\n                [28.5632, -80.577],\n                {\n  &quot;color&quot;: &quot;red&quot;,\n}\n            ).addTo(marker_cluster_2c423f430e9fe68eb4dadebfa6d658f8);\n        \n    \n        var popup_7b6c8ecb17284e3eb7a693ceb6227cfe = L.popup({\n  &quot;maxWidth&quot;: &quot;100%&quot;,\n});\n\n        \n            \n                var html_35c632ca71b7d603f6cf70eeb5c7cef6 = $(`&lt;div id=&quot;html_35c632ca71b7d603f6cf70eeb5c7cef6&quot; style=&quot;width: 100.0%; height: 100.0%;&quot;&gt;Site B&lt;/div&gt;`)[0];\n                popup_7b6c8ecb17284e3eb7a693ceb6227cfe.setContent(html_35c632ca71b7d603f6cf70eeb5c7cef6);\n            \n        \n\n        marker_364544e5e64d189585cb8ddef650341f.bindPopup(popup_7b6c8ecb17284e3eb7a693ceb6227cfe)\n        ;\n\n        \n    \n    \n            var marker_4d62d13294008b06328519dee528142c = L.marker(\n                [28.5728, -80.649],\n                {\n  &quot;color&quot;: &quot;green&quot;,\n}\n            ).addTo(marker_cluster_2c423f430e9fe68eb4dadebfa6d658f8);\n        \n    \n        var popup_48f0d9d7a6106ffb42a4c650b1e0b848 = L.popup({\n  &quot;maxWidth&quot;: &quot;100%&quot;,\n});\n\n        \n            \n                var html_e176c8281c4f55122d35817f38f38ffe = $(`&lt;div id=&quot;html_e176c8281c4f55122d35817f38f38ffe&quot; style=&quot;width: 100.0%; height: 100.0%;&quot;&gt;Site C&lt;/div&gt;`)[0];\n                popup_48f0d9d7a6106ffb42a4c650b1e0b848.setContent(html_e176c8281c4f55122d35817f38f38ffe);\n            \n        \n\n        marker_4d62d13294008b06328519dee528142c.bindPopup(popup_48f0d9d7a6106ffb42a4c650b1e0b848)\n        ;\n\n        \n    \n    \n            var marker_80b13fc8639d30607dba1e6bfa4f5819 = L.marker(\n                [28.5623, -80.576],\n                {\n  &quot;color&quot;: &quot;red&quot;,\n}\n            ).addTo(marker_cluster_2c423f430e9fe68eb4dadebfa6d658f8);\n        \n    \n        var popup_0f27fde7cddbdfd1dff5fd3da158d838 = L.popup({\n  &quot;maxWidth&quot;: &quot;100%&quot;,\n});\n\n        \n            \n                var html_c523ab38aa48dbafd2809ecd119e5410 = $(`&lt;div id=&quot;html_c523ab38aa48dbafd2809ecd119e5410&quot; style=&quot;width: 100.0%; height: 100.0%;&quot;&gt;Site D&lt;/div&gt;`)[0];\n                popup_0f27fde7cddbdfd1dff5fd3da158d838.setContent(html_c523ab38aa48dbafd2809ecd119e5410);\n            \n        \n\n        marker_80b13fc8639d30607dba1e6bfa4f5819.bindPopup(popup_0f27fde7cddbdfd1dff5fd3da158d838)\n        ;\n\n        \n    \n    \n            var marker_4361a58a08db0334bd2aed6677bf20fc = L.marker(\n                [28.5745, -80.65],\n                {\n  &quot;color&quot;: &quot;green&quot;,\n}\n            ).addTo(marker_cluster_2c423f430e9fe68eb4dadebfa6d658f8);\n        \n    \n        var popup_6b12354b11a9b83f45615a0bb2324d96 = L.popup({\n  &quot;maxWidth&quot;: &quot;100%&quot;,\n});\n\n        \n            \n                var html_cb50dc220133dc52371404daef21267b = $(`&lt;div id=&quot;html_cb50dc220133dc52371404daef21267b&quot; style=&quot;width: 100.0%; height: 100.0%;&quot;&gt;Site E&lt;/div&gt;`)[0];\n                popup_6b12354b11a9b83f45615a0bb2324d96.setContent(html_cb50dc220133dc52371404daef21267b);\n            \n        \n\n        marker_4361a58a08db0334bd2aed6677bf20fc.bindPopup(popup_6b12354b11a9b83f45615a0bb2324d96)\n        ;\n\n        \n    \n    \n            marker_cluster_2c423f430e9fe68eb4dadebfa6d658f8.addTo(map_a2cb3feefeb6a0e8715d64962809c791);\n        \n    \n            tile_layer_1e8fdc2f86e88146548a9abc41947a09.addTo(map_a2cb3feefeb6a0e8715d64962809c791);\n        \n    \n            marker_cluster_592ee53cb7dbe83644ff369316b58fe4.addTo(map_a2cb3feefeb6a0e8715d64962809c791);\n        \n    \n            marker_cluster_7114bccf5a90e49860676117bdee2ff5.addTo(map_a2cb3feefeb6a0e8715d64962809c791);\n        \n    \n            marker_cluster_2c423f430e9fe68eb4dadebfa6d658f8.addTo(map_a2cb3feefeb6a0e8715d64962809c791);\n        \n    \n            var marker_cluster_658d3feefff3d4410e76e190eb4f8963 = L.markerClusterGroup(\n                {\n}\n            );\n        \n    \n            var marker_d55c7fea845359bd7f44886fb52bfb3f = L.marker(\n                [28.5721, -80.648],\n                {\n  &quot;color&quot;: &quot;green&quot;,\n}\n            ).addTo(marker_cluster_658d3feefff3d4410e76e190eb4f8963);\n        \n    \n        var popup_fab90add05a599d26f468f9f70b723a7 = L.popup({\n  &quot;maxWidth&quot;: &quot;100%&quot;,\n});\n\n        \n            \n                var html_38f4d486e41b8a04edf7319b335bc3e5 = $(`&lt;div id=&quot;html_38f4d486e41b8a04edf7319b335bc3e5&quot; style=&quot;width: 100.0%; height: 100.0%;&quot;&gt;Site A&lt;/div&gt;`)[0];\n                popup_fab90add05a599d26f468f9f70b723a7.setContent(html_38f4d486e41b8a04edf7319b335bc3e5);\n            \n        \n\n        marker_d55c7fea845359bd7f44886fb52bfb3f.bindPopup(popup_fab90add05a599d26f468f9f70b723a7)\n        ;\n\n        \n    \n    \n            var marker_3bf179b5d6b671a4b30fb7d61b965c0e = L.marker(\n                [28.5632, -80.577],\n                {\n  &quot;color&quot;: &quot;red&quot;,\n}\n            ).addTo(marker_cluster_658d3feefff3d4410e76e190eb4f8963);\n        \n    \n        var popup_9b4095773054b200a67ee62f6353a233 = L.popup({\n  &quot;maxWidth&quot;: &quot;100%&quot;,\n});\n\n        \n            \n                var html_7c2406c6644462eb8056129683f21117 = $(`&lt;div id=&quot;html_7c2406c6644462eb8056129683f21117&quot; style=&quot;width: 100.0%; height: 100.0%;&quot;&gt;Site B&lt;/div&gt;`)[0];\n                popup_9b4095773054b200a67ee62f6353a233.setContent(html_7c2406c6644462eb8056129683f21117);\n            \n        \n\n        marker_3bf179b5d6b671a4b30fb7d61b965c0e.bindPopup(popup_9b4095773054b200a67ee62f6353a233)\n        ;\n\n        \n    \n    \n            var marker_0f8ba25983cf2f8bcf7fde3a56878ef0 = L.marker(\n                [28.5728, -80.649],\n                {\n  &quot;color&quot;: &quot;green&quot;,\n}\n            ).addTo(marker_cluster_658d3feefff3d4410e76e190eb4f8963);\n        \n    \n        var popup_1a7010f3c3721e44b60602361fa8a5c9 = L.popup({\n  &quot;maxWidth&quot;: &quot;100%&quot;,\n});\n\n        \n            \n                var html_ca766b2f23609905ce49844f968252e0 = $(`&lt;div id=&quot;html_ca766b2f23609905ce49844f968252e0&quot; style=&quot;width: 100.0%; height: 100.0%;&quot;&gt;Site C&lt;/div&gt;`)[0];\n                popup_1a7010f3c3721e44b60602361fa8a5c9.setContent(html_ca766b2f23609905ce49844f968252e0);\n            \n        \n\n        marker_0f8ba25983cf2f8bcf7fde3a56878ef0.bindPopup(popup_1a7010f3c3721e44b60602361fa8a5c9)\n        ;\n\n        \n    \n    \n            var marker_dfaca91755d4c5dc1e543c4d587918f1 = L.marker(\n                [28.5623, -80.576],\n                {\n  &quot;color&quot;: &quot;red&quot;,\n}\n            ).addTo(marker_cluster_658d3feefff3d4410e76e190eb4f8963);\n        \n    \n        var popup_a253c0b39cee538ea1d3d65645f2e210 = L.popup({\n  &quot;maxWidth&quot;: &quot;100%&quot;,\n});\n\n        \n            \n                var html_b57cd902b9fa67cefc77f6035611e0a4 = $(`&lt;div id=&quot;html_b57cd902b9fa67cefc77f6035611e0a4&quot; style=&quot;width: 100.0%; height: 100.0%;&quot;&gt;Site D&lt;/div&gt;`)[0];\n                popup_a253c0b39cee538ea1d3d65645f2e210.setContent(html_b57cd902b9fa67cefc77f6035611e0a4);\n            \n        \n\n        marker_dfaca91755d4c5dc1e543c4d587918f1.bindPopup(popup_a253c0b39cee538ea1d3d65645f2e210)\n        ;\n\n        \n    \n    \n            var marker_e217d4b3380463fa6361e81803b2ab57 = L.marker(\n                [28.5745, -80.65],\n                {\n  &quot;color&quot;: &quot;green&quot;,\n}\n            ).addTo(marker_cluster_658d3feefff3d4410e76e190eb4f8963);\n        \n    \n        var popup_625cddc4a277abdf55a0ef2029821cf9 = L.popup({\n  &quot;maxWidth&quot;: &quot;100%&quot;,\n});\n\n        \n            \n                var html_2767c675aff7058548b8fb9a1abf6146 = $(`&lt;div id=&quot;html_2767c675aff7058548b8fb9a1abf6146&quot; style=&quot;width: 100.0%; height: 100.0%;&quot;&gt;Site E&lt;/div&gt;`)[0];\n                popup_625cddc4a277abdf55a0ef2029821cf9.setContent(html_2767c675aff7058548b8fb9a1abf6146);\n            \n        \n\n        marker_e217d4b3380463fa6361e81803b2ab57.bindPopup(popup_625cddc4a277abdf55a0ef2029821cf9)\n        ;\n\n        \n    \n    \n            marker_cluster_658d3feefff3d4410e76e190eb4f8963.addTo(map_a2cb3feefeb6a0e8715d64962809c791);\n        \n&lt;/script&gt;\n&lt;/html&gt;\" style=\"position:absolute;width:100%;height:100%;left:0;top:0;border:none !important;\" allowfullscreen webkitallowfullscreen mozallowfullscreen></iframe></div></div>"
          },
          "metadata": {}
        }
      ],
      "execution_count": 88
    },
    {
      "cell_type": "code",
      "source": "# Add marker_cluster to current site_map\nsite_map.add_child(marker_cluster)\n\n# for each row in spacex_df data frame\n# create a Marker object with its coordinate\n# and customize the Marker's icon property to indicate if this launch was successed or failed, \n# e.g., icon=folium.Icon(color='white', icon_color=row['marker_color']\nfor index, record in spacex_df.iterrows():\n   \n    # marker = folium.Marker(...)\n    \n    marker_cluster.add_child(marker)\n\nsite_map",
      "metadata": {
        "trusted": true
      },
      "outputs": [
        {
          "ename": "<class 'ValueError'>",
          "evalue": "Location should consist of two numerical values, but array([28.56230197, 28.56319718, 28.57325457, 34.63283416]) of type <class 'numpy.ndarray'> is not convertible to float.",
          "traceback": [
            "\u001b[0;31m---------------------------------------------------------------------------\u001b[0m",
            "\u001b[0;31mTypeError\u001b[0m                                 Traceback (most recent call last)",
            "File \u001b[0;32m/lib/python3.12/site-packages/folium/utilities.py:101\u001b[0m, in \u001b[0;36mvalidate_location\u001b[0;34m(location)\u001b[0m\n\u001b[1;32m    100\u001b[0m \u001b[38;5;28;01mtry\u001b[39;00m:\n\u001b[0;32m--> 101\u001b[0m     \u001b[38;5;28;43mfloat\u001b[39;49m\u001b[43m(\u001b[49m\u001b[43mcoord\u001b[49m\u001b[43m)\u001b[49m\n\u001b[1;32m    102\u001b[0m \u001b[38;5;28;01mexcept\u001b[39;00m (\u001b[38;5;167;01mTypeError\u001b[39;00m, \u001b[38;5;167;01mValueError\u001b[39;00m):\n",
            "\u001b[0;31mTypeError\u001b[0m: only length-1 arrays can be converted to Python scalars",
            "\nDuring handling of the above exception, another exception occurred:\n",
            "\u001b[0;31mValueError\u001b[0m                                Traceback (most recent call last)",
            "Cell \u001b[0;32mIn[80], line 9\u001b[0m\n\u001b[1;32m      4\u001b[0m \u001b[38;5;66;03m# for each row in spacex_df data frame\u001b[39;00m\n\u001b[1;32m      5\u001b[0m \u001b[38;5;66;03m# create a Marker object with its coordinate\u001b[39;00m\n\u001b[1;32m      6\u001b[0m \u001b[38;5;66;03m# and customize the Marker's icon property to indicate if this launch was successed or failed, \u001b[39;00m\n\u001b[1;32m      7\u001b[0m \u001b[38;5;66;03m# e.g., icon=folium.Icon(color='white', icon_color=row['marker_color']\u001b[39;00m\n\u001b[1;32m      8\u001b[0m \u001b[38;5;28;01mfor\u001b[39;00m index, record \u001b[38;5;129;01min\u001b[39;00m spacex_df\u001b[38;5;241m.\u001b[39miterrows():\n\u001b[0;32m----> 9\u001b[0m     marker\u001b[38;5;241m=\u001b[39m\u001b[43mfolium\u001b[49m\u001b[38;5;241;43m.\u001b[39;49m\u001b[43mMarker\u001b[49m\u001b[43m(\u001b[49m\u001b[43m[\u001b[49m\u001b[43mlaunch_sites_df\u001b[49m\u001b[43m[\u001b[49m\u001b[38;5;124;43m'\u001b[39;49m\u001b[38;5;124;43mLat\u001b[39;49m\u001b[38;5;124;43m'\u001b[39;49m\u001b[43m]\u001b[49m\u001b[38;5;241;43m.\u001b[39;49m\u001b[43mvalues\u001b[49m\u001b[43m,\u001b[49m\u001b[43mlaunch_sites_df\u001b[49m\u001b[43m[\u001b[49m\u001b[38;5;124;43m'\u001b[39;49m\u001b[38;5;124;43mLong\u001b[39;49m\u001b[38;5;124;43m'\u001b[39;49m\u001b[43m]\u001b[49m\u001b[38;5;241;43m.\u001b[39;49m\u001b[43mvalues\u001b[49m\u001b[43m]\u001b[49m\u001b[43m,\u001b[49m\u001b[43mcolor\u001b[49m\u001b[38;5;241;43m=\u001b[39;49m\u001b[43mchek_color\u001b[49m\u001b[43m(\u001b[49m\u001b[43mrecord\u001b[49m\u001b[43m[\u001b[49m\u001b[38;5;124;43m'\u001b[39;49m\u001b[38;5;124;43mclass\u001b[39;49m\u001b[38;5;124;43m'\u001b[39;49m\u001b[43m]\u001b[49m\u001b[43m)\u001b[49m\u001b[43m)\u001b[49m\n\u001b[1;32m     10\u001b[0m     \u001b[38;5;66;03m# TODO: Create and add a Marker cluster to the site map\u001b[39;00m\n\u001b[1;32m     11\u001b[0m     \u001b[38;5;66;03m# marker = folium.Marker(...)\u001b[39;00m\n\u001b[1;32m     13\u001b[0m     marker_cluster\u001b[38;5;241m.\u001b[39madd_child(marker)\n",
            "File \u001b[0;32m/lib/python3.12/site-packages/folium/map.py:386\u001b[0m, in \u001b[0;36mMarker.__init__\u001b[0;34m(self, location, popup, tooltip, icon, draggable, **kwargs)\u001b[0m\n\u001b[1;32m    384\u001b[0m \u001b[38;5;28msuper\u001b[39m()\u001b[38;5;241m.\u001b[39m\u001b[38;5;21m__init__\u001b[39m()\n\u001b[1;32m    385\u001b[0m \u001b[38;5;28mself\u001b[39m\u001b[38;5;241m.\u001b[39m_name \u001b[38;5;241m=\u001b[39m \u001b[38;5;124m\"\u001b[39m\u001b[38;5;124mMarker\u001b[39m\u001b[38;5;124m\"\u001b[39m\n\u001b[0;32m--> 386\u001b[0m \u001b[38;5;28mself\u001b[39m\u001b[38;5;241m.\u001b[39mlocation \u001b[38;5;241m=\u001b[39m \u001b[43mvalidate_location\u001b[49m\u001b[43m(\u001b[49m\u001b[43mlocation\u001b[49m\u001b[43m)\u001b[49m \u001b[38;5;28;01mif\u001b[39;00m location \u001b[38;5;129;01mis\u001b[39;00m \u001b[38;5;129;01mnot\u001b[39;00m \u001b[38;5;28;01mNone\u001b[39;00m \u001b[38;5;28;01melse\u001b[39;00m \u001b[38;5;28;01mNone\u001b[39;00m\n\u001b[1;32m    387\u001b[0m \u001b[38;5;28mself\u001b[39m\u001b[38;5;241m.\u001b[39moptions \u001b[38;5;241m=\u001b[39m remove_empty(\n\u001b[1;32m    388\u001b[0m     draggable\u001b[38;5;241m=\u001b[39mdraggable \u001b[38;5;129;01mor\u001b[39;00m \u001b[38;5;28;01mNone\u001b[39;00m, autoPan\u001b[38;5;241m=\u001b[39mdraggable \u001b[38;5;129;01mor\u001b[39;00m \u001b[38;5;28;01mNone\u001b[39;00m, \u001b[38;5;241m*\u001b[39m\u001b[38;5;241m*\u001b[39mkwargs\n\u001b[1;32m    389\u001b[0m )\n\u001b[1;32m    390\u001b[0m \u001b[38;5;28;01mif\u001b[39;00m icon \u001b[38;5;129;01mis\u001b[39;00m \u001b[38;5;129;01mnot\u001b[39;00m \u001b[38;5;28;01mNone\u001b[39;00m:\n",
            "File \u001b[0;32m/lib/python3.12/site-packages/folium/utilities.py:103\u001b[0m, in \u001b[0;36mvalidate_location\u001b[0;34m(location)\u001b[0m\n\u001b[1;32m    101\u001b[0m     \u001b[38;5;28mfloat\u001b[39m(coord)\n\u001b[1;32m    102\u001b[0m \u001b[38;5;28;01mexcept\u001b[39;00m (\u001b[38;5;167;01mTypeError\u001b[39;00m, \u001b[38;5;167;01mValueError\u001b[39;00m):\n\u001b[0;32m--> 103\u001b[0m     \u001b[38;5;28;01mraise\u001b[39;00m \u001b[38;5;167;01mValueError\u001b[39;00m(\n\u001b[1;32m    104\u001b[0m         \u001b[38;5;124m\"\u001b[39m\u001b[38;5;124mLocation should consist of two numerical values, \u001b[39m\u001b[38;5;124m\"\u001b[39m\n\u001b[1;32m    105\u001b[0m         \u001b[38;5;124mf\u001b[39m\u001b[38;5;124m\"\u001b[39m\u001b[38;5;124mbut \u001b[39m\u001b[38;5;132;01m{\u001b[39;00mcoord\u001b[38;5;132;01m!r}\u001b[39;00m\u001b[38;5;124m of type \u001b[39m\u001b[38;5;132;01m{\u001b[39;00m\u001b[38;5;28mtype\u001b[39m(coord)\u001b[38;5;132;01m}\u001b[39;00m\u001b[38;5;124m is not convertible to float.\u001b[39m\u001b[38;5;124m\"\u001b[39m\n\u001b[1;32m    106\u001b[0m     )\n\u001b[1;32m    107\u001b[0m \u001b[38;5;28;01mif\u001b[39;00m math\u001b[38;5;241m.\u001b[39misnan(\u001b[38;5;28mfloat\u001b[39m(coord)):\n\u001b[1;32m    108\u001b[0m     \u001b[38;5;28;01mraise\u001b[39;00m \u001b[38;5;167;01mValueError\u001b[39;00m(\u001b[38;5;124m\"\u001b[39m\u001b[38;5;124mLocation values cannot contain NaNs.\u001b[39m\u001b[38;5;124m\"\u001b[39m)\n",
            "\u001b[0;31mValueError\u001b[0m: Location should consist of two numerical values, but array([28.56230197, 28.56319718, 28.57325457, 34.63283416]) of type <class 'numpy.ndarray'> is not convertible to float."
          ],
          "output_type": "error"
        }
      ],
      "execution_count": 80
    },
    {
      "cell_type": "markdown",
      "source": "Your updated map may look like the following screenshots:\n",
      "metadata": {}
    },
    {
      "cell_type": "code",
      "source": "",
      "metadata": {
        "trusted": true
      },
      "outputs": [
        {
          "execution_count": 81,
          "output_type": "execute_result",
          "data": {
            "text/plain": "<folium.folium.Map at 0x7a7e208>",
            "text/html": "<div style=\"width:100%;\"><div style=\"position:relative;width:100%;height:0;padding-bottom:60%;\"><span style=\"color:#565656\">Make this Notebook Trusted to load map: File -> Trust Notebook</span><iframe srcdoc=\"&lt;!DOCTYPE html&gt;\n&lt;html&gt;\n&lt;head&gt;\n    \n    &lt;meta http-equiv=&quot;content-type&quot; content=&quot;text/html; charset=UTF-8&quot; /&gt;\n    \n        &lt;script&gt;\n            L_NO_TOUCH = false;\n            L_DISABLE_3D = false;\n        &lt;/script&gt;\n    \n    &lt;style&gt;html, body {width: 100%;height: 100%;margin: 0;padding: 0;}&lt;/style&gt;\n    &lt;style&gt;#map {position:absolute;top:0;bottom:0;right:0;left:0;}&lt;/style&gt;\n    &lt;script src=&quot;https://cdn.jsdelivr.net/npm/leaflet@1.9.3/dist/leaflet.js&quot;&gt;&lt;/script&gt;\n    &lt;script src=&quot;https://code.jquery.com/jquery-3.7.1.min.js&quot;&gt;&lt;/script&gt;\n    &lt;script src=&quot;https://cdn.jsdelivr.net/npm/bootstrap@5.2.2/dist/js/bootstrap.bundle.min.js&quot;&gt;&lt;/script&gt;\n    &lt;script src=&quot;https://cdnjs.cloudflare.com/ajax/libs/Leaflet.awesome-markers/2.0.2/leaflet.awesome-markers.js&quot;&gt;&lt;/script&gt;\n    &lt;link rel=&quot;stylesheet&quot; href=&quot;https://cdn.jsdelivr.net/npm/leaflet@1.9.3/dist/leaflet.css&quot;/&gt;\n    &lt;link rel=&quot;stylesheet&quot; href=&quot;https://cdn.jsdelivr.net/npm/bootstrap@5.2.2/dist/css/bootstrap.min.css&quot;/&gt;\n    &lt;link rel=&quot;stylesheet&quot; href=&quot;https://netdna.bootstrapcdn.com/bootstrap/3.0.0/css/bootstrap-glyphicons.css&quot;/&gt;\n    &lt;link rel=&quot;stylesheet&quot; href=&quot;https://cdn.jsdelivr.net/npm/@fortawesome/fontawesome-free@6.2.0/css/all.min.css&quot;/&gt;\n    &lt;link rel=&quot;stylesheet&quot; href=&quot;https://cdnjs.cloudflare.com/ajax/libs/Leaflet.awesome-markers/2.0.2/leaflet.awesome-markers.css&quot;/&gt;\n    &lt;link rel=&quot;stylesheet&quot; href=&quot;https://cdn.jsdelivr.net/gh/python-visualization/folium/folium/templates/leaflet.awesome.rotate.min.css&quot;/&gt;\n    \n            &lt;meta name=&quot;viewport&quot; content=&quot;width=device-width,\n                initial-scale=1.0, maximum-scale=1.0, user-scalable=no&quot; /&gt;\n            &lt;style&gt;\n                #map_a2cb3feefeb6a0e8715d64962809c791 {\n                    position: relative;\n                    width: 100.0%;\n                    height: 100.0%;\n                    left: 0.0%;\n                    top: 0.0%;\n                }\n                .leaflet-container { font-size: 1rem; }\n            &lt;/style&gt;\n        \n    &lt;script src=&quot;https://cdnjs.cloudflare.com/ajax/libs/leaflet.markercluster/1.1.0/leaflet.markercluster.js&quot;&gt;&lt;/script&gt;\n    &lt;link rel=&quot;stylesheet&quot; href=&quot;https://cdnjs.cloudflare.com/ajax/libs/leaflet.markercluster/1.1.0/MarkerCluster.css&quot;/&gt;\n    &lt;link rel=&quot;stylesheet&quot; href=&quot;https://cdnjs.cloudflare.com/ajax/libs/leaflet.markercluster/1.1.0/MarkerCluster.Default.css&quot;/&gt;\n&lt;/head&gt;\n&lt;body&gt;\n    \n    \n            &lt;div class=&quot;folium-map&quot; id=&quot;map_a2cb3feefeb6a0e8715d64962809c791&quot; &gt;&lt;/div&gt;\n        \n&lt;/body&gt;\n&lt;script&gt;\n    \n    \n            var map_a2cb3feefeb6a0e8715d64962809c791 = L.map(\n                &quot;map_a2cb3feefeb6a0e8715d64962809c791&quot;,\n                {\n                    center: [28.56898, -80.62],\n                    crs: L.CRS.EPSG3857,\n                    ...{\n  &quot;zoom&quot;: 10,\n  &quot;zoomControl&quot;: true,\n  &quot;preferCanvas&quot;: false,\n}\n\n                }\n            );\n\n            \n\n        \n    \n            var tile_layer_1e8fdc2f86e88146548a9abc41947a09 = L.tileLayer(\n                &quot;https://tile.openstreetmap.org/{z}/{x}/{y}.png&quot;,\n                {\n  &quot;minZoom&quot;: 0,\n  &quot;maxZoom&quot;: 19,\n  &quot;maxNativeZoom&quot;: 19,\n  &quot;noWrap&quot;: false,\n  &quot;attribution&quot;: &quot;\\u0026copy; \\u003ca href=\\&quot;https://www.openstreetmap.org/copyright\\&quot;\\u003eOpenStreetMap\\u003c/a\\u003e contributors&quot;,\n  &quot;subdomains&quot;: &quot;abc&quot;,\n  &quot;detectRetina&quot;: false,\n  &quot;tms&quot;: false,\n  &quot;opacity&quot;: 1,\n}\n\n            );\n        \n    \n            tile_layer_1e8fdc2f86e88146548a9abc41947a09.addTo(map_a2cb3feefeb6a0e8715d64962809c791);\n        \n    \n            var marker_cluster_592ee53cb7dbe83644ff369316b58fe4 = L.markerClusterGroup(\n                {\n}\n            );\n        \n    \n            var marker_f571251ad4719dd37f61e437606496a9 = L.marker(\n                [28.5721, -80.648],\n                {\n}\n            ).addTo(marker_cluster_592ee53cb7dbe83644ff369316b58fe4);\n        \n    \n            var icon_4fd7722705a1c1864e6737f0c860b9a8 = L.AwesomeMarkers.icon(\n                {\n  &quot;markerColor&quot;: &quot;green&quot;,\n  &quot;iconColor&quot;: &quot;white&quot;,\n  &quot;icon&quot;: &quot;rocket&quot;,\n  &quot;prefix&quot;: &quot;fa&quot;,\n  &quot;extraClasses&quot;: &quot;fa-rotate-0&quot;,\n}\n            );\n            marker_f571251ad4719dd37f61e437606496a9.setIcon(icon_4fd7722705a1c1864e6737f0c860b9a8);\n        \n    \n        var popup_85c87f33661637a2d5f0d32209b484bd = L.popup({\n  &quot;maxWidth&quot;: 300,\n});\n\n        \n            \n                var html_2a8343443ca47eec60f78912fe9b957d = $(`&lt;div id=&quot;html_2a8343443ca47eec60f78912fe9b957d&quot; style=&quot;width: 100.0%; height: 100.0%;&quot;&gt;&lt;b&gt;Launch Site:&lt;/b&gt; Site A&lt;br&gt;&lt;b&gt;Result:&lt;/b&gt; Success&lt;/div&gt;`)[0];\n                popup_85c87f33661637a2d5f0d32209b484bd.setContent(html_2a8343443ca47eec60f78912fe9b957d);\n            \n        \n\n        marker_f571251ad4719dd37f61e437606496a9.bindPopup(popup_85c87f33661637a2d5f0d32209b484bd)\n        ;\n\n        \n    \n    \n            var marker_8a09ec3e87c2bc9de18e3293b04cc9bb = L.marker(\n                [28.5632, -80.577],\n                {\n}\n            ).addTo(marker_cluster_592ee53cb7dbe83644ff369316b58fe4);\n        \n    \n            var icon_eb18ef910496633d5920d0f7c4945bb9 = L.AwesomeMarkers.icon(\n                {\n  &quot;markerColor&quot;: &quot;red&quot;,\n  &quot;iconColor&quot;: &quot;white&quot;,\n  &quot;icon&quot;: &quot;remove&quot;,\n  &quot;prefix&quot;: &quot;fa&quot;,\n  &quot;extraClasses&quot;: &quot;fa-rotate-0&quot;,\n}\n            );\n            marker_8a09ec3e87c2bc9de18e3293b04cc9bb.setIcon(icon_eb18ef910496633d5920d0f7c4945bb9);\n        \n    \n        var popup_5ae22f9b91a0ba5c39ffbc30e79f193c = L.popup({\n  &quot;maxWidth&quot;: 300,\n});\n\n        \n            \n                var html_a9b25cf3c4cdb376a749689189e4ba4b = $(`&lt;div id=&quot;html_a9b25cf3c4cdb376a749689189e4ba4b&quot; style=&quot;width: 100.0%; height: 100.0%;&quot;&gt;&lt;b&gt;Launch Site:&lt;/b&gt; Site B&lt;br&gt;&lt;b&gt;Result:&lt;/b&gt; Failure&lt;/div&gt;`)[0];\n                popup_5ae22f9b91a0ba5c39ffbc30e79f193c.setContent(html_a9b25cf3c4cdb376a749689189e4ba4b);\n            \n        \n\n        marker_8a09ec3e87c2bc9de18e3293b04cc9bb.bindPopup(popup_5ae22f9b91a0ba5c39ffbc30e79f193c)\n        ;\n\n        \n    \n    \n            var marker_5e0fc364320339c40b5e0654cc3c3d8d = L.marker(\n                [28.5728, -80.649],\n                {\n}\n            ).addTo(marker_cluster_592ee53cb7dbe83644ff369316b58fe4);\n        \n    \n            var icon_0b1998e30b085543ec5ea44d734d1c23 = L.AwesomeMarkers.icon(\n                {\n  &quot;markerColor&quot;: &quot;green&quot;,\n  &quot;iconColor&quot;: &quot;white&quot;,\n  &quot;icon&quot;: &quot;rocket&quot;,\n  &quot;prefix&quot;: &quot;fa&quot;,\n  &quot;extraClasses&quot;: &quot;fa-rotate-0&quot;,\n}\n            );\n            marker_5e0fc364320339c40b5e0654cc3c3d8d.setIcon(icon_0b1998e30b085543ec5ea44d734d1c23);\n        \n    \n        var popup_eda16e127272e54216e6d04a7a0da633 = L.popup({\n  &quot;maxWidth&quot;: 300,\n});\n\n        \n            \n                var html_1faff9f1de165074ebb8737d1caf5cdd = $(`&lt;div id=&quot;html_1faff9f1de165074ebb8737d1caf5cdd&quot; style=&quot;width: 100.0%; height: 100.0%;&quot;&gt;&lt;b&gt;Launch Site:&lt;/b&gt; Site C&lt;br&gt;&lt;b&gt;Result:&lt;/b&gt; Success&lt;/div&gt;`)[0];\n                popup_eda16e127272e54216e6d04a7a0da633.setContent(html_1faff9f1de165074ebb8737d1caf5cdd);\n            \n        \n\n        marker_5e0fc364320339c40b5e0654cc3c3d8d.bindPopup(popup_eda16e127272e54216e6d04a7a0da633)\n        ;\n\n        \n    \n    \n            var marker_05453b95b7c3160cd64f8abe9be6760e = L.marker(\n                [28.5623, -80.576],\n                {\n}\n            ).addTo(marker_cluster_592ee53cb7dbe83644ff369316b58fe4);\n        \n    \n            var icon_38ac0c66d29debb0951a8abb0c096835 = L.AwesomeMarkers.icon(\n                {\n  &quot;markerColor&quot;: &quot;red&quot;,\n  &quot;iconColor&quot;: &quot;white&quot;,\n  &quot;icon&quot;: &quot;remove&quot;,\n  &quot;prefix&quot;: &quot;fa&quot;,\n  &quot;extraClasses&quot;: &quot;fa-rotate-0&quot;,\n}\n            );\n            marker_05453b95b7c3160cd64f8abe9be6760e.setIcon(icon_38ac0c66d29debb0951a8abb0c096835);\n        \n    \n        var popup_264c9ec54b2ce528b24ae9359eae2b74 = L.popup({\n  &quot;maxWidth&quot;: 300,\n});\n\n        \n            \n                var html_6a87c545d426b24c43edfedfdac3b71b = $(`&lt;div id=&quot;html_6a87c545d426b24c43edfedfdac3b71b&quot; style=&quot;width: 100.0%; height: 100.0%;&quot;&gt;&lt;b&gt;Launch Site:&lt;/b&gt; Site D&lt;br&gt;&lt;b&gt;Result:&lt;/b&gt; Failure&lt;/div&gt;`)[0];\n                popup_264c9ec54b2ce528b24ae9359eae2b74.setContent(html_6a87c545d426b24c43edfedfdac3b71b);\n            \n        \n\n        marker_05453b95b7c3160cd64f8abe9be6760e.bindPopup(popup_264c9ec54b2ce528b24ae9359eae2b74)\n        ;\n\n        \n    \n    \n            var marker_4f570e22a0dfcc7a163fa2168aa3b9e9 = L.marker(\n                [28.5745, -80.65],\n                {\n}\n            ).addTo(marker_cluster_592ee53cb7dbe83644ff369316b58fe4);\n        \n    \n            var icon_73b8b589cf32d9ce5f9ff2a9116f50fb = L.AwesomeMarkers.icon(\n                {\n  &quot;markerColor&quot;: &quot;green&quot;,\n  &quot;iconColor&quot;: &quot;white&quot;,\n  &quot;icon&quot;: &quot;rocket&quot;,\n  &quot;prefix&quot;: &quot;fa&quot;,\n  &quot;extraClasses&quot;: &quot;fa-rotate-0&quot;,\n}\n            );\n            marker_4f570e22a0dfcc7a163fa2168aa3b9e9.setIcon(icon_73b8b589cf32d9ce5f9ff2a9116f50fb);\n        \n    \n        var popup_faa7e95e03b76ed30ff71e71c98c3751 = L.popup({\n  &quot;maxWidth&quot;: 300,\n});\n\n        \n            \n                var html_74225b2b780452cd87b6f166fdd811c2 = $(`&lt;div id=&quot;html_74225b2b780452cd87b6f166fdd811c2&quot; style=&quot;width: 100.0%; height: 100.0%;&quot;&gt;&lt;b&gt;Launch Site:&lt;/b&gt; Site E&lt;br&gt;&lt;b&gt;Result:&lt;/b&gt; Success&lt;/div&gt;`)[0];\n                popup_faa7e95e03b76ed30ff71e71c98c3751.setContent(html_74225b2b780452cd87b6f166fdd811c2);\n            \n        \n\n        marker_4f570e22a0dfcc7a163fa2168aa3b9e9.bindPopup(popup_faa7e95e03b76ed30ff71e71c98c3751)\n        ;\n\n        \n    \n    \n            marker_cluster_592ee53cb7dbe83644ff369316b58fe4.addTo(map_a2cb3feefeb6a0e8715d64962809c791);\n        \n&lt;/script&gt;\n&lt;/html&gt;\" style=\"position:absolute;width:100%;height:100%;left:0;top:0;border:none !important;\" allowfullscreen webkitallowfullscreen mozallowfullscreen></iframe></div></div>"
          },
          "metadata": {}
        }
      ],
      "execution_count": 81
    },
    {
      "cell_type": "markdown",
      "source": "<center>\n    <img src=\"https://cf-courses-data.s3.us.cloud-object-storage.appdomain.cloud/IBM-DS0321EN-SkillsNetwork/labs/module_3/images/launch_site_marker_cluster.png\">\n</center>\n",
      "metadata": {}
    },
    {
      "cell_type": "markdown",
      "source": "<center>\n    <img src=\"https://cf-courses-data.s3.us.cloud-object-storage.appdomain.cloud/IBM-DS0321EN-SkillsNetwork/labs/module_3/images/launch_site_marker_cluster_zoomed.png\">\n</center>\n",
      "metadata": {}
    },
    {
      "cell_type": "markdown",
      "source": "From the color-labeled markers in marker clusters, you should be able to easily identify which launch sites have relatively high success rates.\n",
      "metadata": {}
    },
    {
      "cell_type": "code",
      "source": "# TASK 3: Calculate the distances between a launch site to its proximities\n",
      "metadata": {},
      "outputs": [],
      "execution_count": null
    },
    {
      "cell_type": "markdown",
      "source": "Next, we need to explore and analyze the proximities of launch sites.\n",
      "metadata": {}
    },
    {
      "cell_type": "markdown",
      "source": "Let's first add a `MousePosition` on the map to get coordinate for a mouse over a point on the map. As such, while you are exploring the map, you can easily find the coordinates of any points of interests (such as railway)\n",
      "metadata": {}
    },
    {
      "cell_type": "code",
      "source": "# Add Mouse Position to get the coordinate (Lat, Long) for a mouse over on the map\nformatter = \"function(num) {return L.Util.formatNum(num, 5);};\"\nmouse_position = MousePosition(\n    position='topright',\n    separator=' Long: ',\n    empty_string='NaN',\n    lng_first=False,\n    num_digits=20,\n    prefix='Lat:',\n    lat_formatter=formatter,\n    lng_formatter=formatter,\n)\n\nsite_map.add_child(mouse_position)\nsite_map",
      "metadata": {
        "trusted": true
      },
      "outputs": [
        {
          "execution_count": 89,
          "output_type": "execute_result",
          "data": {
            "text/plain": "<folium.folium.Map at 0x7a7e208>",
            "text/html": "<div style=\"width:100%;\"><div style=\"position:relative;width:100%;height:0;padding-bottom:60%;\"><span style=\"color:#565656\">Make this Notebook Trusted to load map: File -> Trust Notebook</span><iframe srcdoc=\"&lt;!DOCTYPE html&gt;\n&lt;html&gt;\n&lt;head&gt;\n    \n    &lt;meta http-equiv=&quot;content-type&quot; content=&quot;text/html; charset=UTF-8&quot; /&gt;\n    \n        &lt;script&gt;\n            L_NO_TOUCH = false;\n            L_DISABLE_3D = false;\n        &lt;/script&gt;\n    \n    &lt;style&gt;html, body {width: 100%;height: 100%;margin: 0;padding: 0;}&lt;/style&gt;\n    &lt;style&gt;#map {position:absolute;top:0;bottom:0;right:0;left:0;}&lt;/style&gt;\n    &lt;script src=&quot;https://cdn.jsdelivr.net/npm/leaflet@1.9.3/dist/leaflet.js&quot;&gt;&lt;/script&gt;\n    &lt;script src=&quot;https://code.jquery.com/jquery-3.7.1.min.js&quot;&gt;&lt;/script&gt;\n    &lt;script src=&quot;https://cdn.jsdelivr.net/npm/bootstrap@5.2.2/dist/js/bootstrap.bundle.min.js&quot;&gt;&lt;/script&gt;\n    &lt;script src=&quot;https://cdnjs.cloudflare.com/ajax/libs/Leaflet.awesome-markers/2.0.2/leaflet.awesome-markers.js&quot;&gt;&lt;/script&gt;\n    &lt;link rel=&quot;stylesheet&quot; href=&quot;https://cdn.jsdelivr.net/npm/leaflet@1.9.3/dist/leaflet.css&quot;/&gt;\n    &lt;link rel=&quot;stylesheet&quot; href=&quot;https://cdn.jsdelivr.net/npm/bootstrap@5.2.2/dist/css/bootstrap.min.css&quot;/&gt;\n    &lt;link rel=&quot;stylesheet&quot; href=&quot;https://netdna.bootstrapcdn.com/bootstrap/3.0.0/css/bootstrap-glyphicons.css&quot;/&gt;\n    &lt;link rel=&quot;stylesheet&quot; href=&quot;https://cdn.jsdelivr.net/npm/@fortawesome/fontawesome-free@6.2.0/css/all.min.css&quot;/&gt;\n    &lt;link rel=&quot;stylesheet&quot; href=&quot;https://cdnjs.cloudflare.com/ajax/libs/Leaflet.awesome-markers/2.0.2/leaflet.awesome-markers.css&quot;/&gt;\n    &lt;link rel=&quot;stylesheet&quot; href=&quot;https://cdn.jsdelivr.net/gh/python-visualization/folium/folium/templates/leaflet.awesome.rotate.min.css&quot;/&gt;\n    \n            &lt;meta name=&quot;viewport&quot; content=&quot;width=device-width,\n                initial-scale=1.0, maximum-scale=1.0, user-scalable=no&quot; /&gt;\n            &lt;style&gt;\n                #map_a2cb3feefeb6a0e8715d64962809c791 {\n                    position: relative;\n                    width: 100.0%;\n                    height: 100.0%;\n                    left: 0.0%;\n                    top: 0.0%;\n                }\n                .leaflet-container { font-size: 1rem; }\n            &lt;/style&gt;\n        \n    &lt;script src=&quot;https://cdnjs.cloudflare.com/ajax/libs/leaflet.markercluster/1.1.0/leaflet.markercluster.js&quot;&gt;&lt;/script&gt;\n    &lt;link rel=&quot;stylesheet&quot; href=&quot;https://cdnjs.cloudflare.com/ajax/libs/leaflet.markercluster/1.1.0/MarkerCluster.css&quot;/&gt;\n    &lt;link rel=&quot;stylesheet&quot; href=&quot;https://cdnjs.cloudflare.com/ajax/libs/leaflet.markercluster/1.1.0/MarkerCluster.Default.css&quot;/&gt;\n    &lt;script src=&quot;https://cdn.jsdelivr.net/gh/ardhi/Leaflet.MousePosition/src/L.Control.MousePosition.min.js&quot;&gt;&lt;/script&gt;\n    &lt;link rel=&quot;stylesheet&quot; href=&quot;https://cdn.jsdelivr.net/gh/ardhi/Leaflet.MousePosition/src/L.Control.MousePosition.min.css&quot;/&gt;\n&lt;/head&gt;\n&lt;body&gt;\n    \n    \n            &lt;div class=&quot;folium-map&quot; id=&quot;map_a2cb3feefeb6a0e8715d64962809c791&quot; &gt;&lt;/div&gt;\n        \n&lt;/body&gt;\n&lt;script&gt;\n    \n    \n            var map_a2cb3feefeb6a0e8715d64962809c791 = L.map(\n                &quot;map_a2cb3feefeb6a0e8715d64962809c791&quot;,\n                {\n                    center: [28.56898, -80.62],\n                    crs: L.CRS.EPSG3857,\n                    ...{\n  &quot;zoom&quot;: 10,\n  &quot;zoomControl&quot;: true,\n  &quot;preferCanvas&quot;: false,\n}\n\n                }\n            );\n\n            \n\n        \n    \n            var tile_layer_1e8fdc2f86e88146548a9abc41947a09 = L.tileLayer(\n                &quot;https://tile.openstreetmap.org/{z}/{x}/{y}.png&quot;,\n                {\n  &quot;minZoom&quot;: 0,\n  &quot;maxZoom&quot;: 19,\n  &quot;maxNativeZoom&quot;: 19,\n  &quot;noWrap&quot;: false,\n  &quot;attribution&quot;: &quot;\\u0026copy; \\u003ca href=\\&quot;https://www.openstreetmap.org/copyright\\&quot;\\u003eOpenStreetMap\\u003c/a\\u003e contributors&quot;,\n  &quot;subdomains&quot;: &quot;abc&quot;,\n  &quot;detectRetina&quot;: false,\n  &quot;tms&quot;: false,\n  &quot;opacity&quot;: 1,\n}\n\n            );\n        \n    \n            tile_layer_1e8fdc2f86e88146548a9abc41947a09.addTo(map_a2cb3feefeb6a0e8715d64962809c791);\n        \n    \n            var marker_cluster_592ee53cb7dbe83644ff369316b58fe4 = L.markerClusterGroup(\n                {\n}\n            );\n        \n    \n            var marker_f571251ad4719dd37f61e437606496a9 = L.marker(\n                [28.5721, -80.648],\n                {\n}\n            ).addTo(marker_cluster_592ee53cb7dbe83644ff369316b58fe4);\n        \n    \n            var icon_4fd7722705a1c1864e6737f0c860b9a8 = L.AwesomeMarkers.icon(\n                {\n  &quot;markerColor&quot;: &quot;green&quot;,\n  &quot;iconColor&quot;: &quot;white&quot;,\n  &quot;icon&quot;: &quot;rocket&quot;,\n  &quot;prefix&quot;: &quot;fa&quot;,\n  &quot;extraClasses&quot;: &quot;fa-rotate-0&quot;,\n}\n            );\n            marker_f571251ad4719dd37f61e437606496a9.setIcon(icon_4fd7722705a1c1864e6737f0c860b9a8);\n        \n    \n        var popup_85c87f33661637a2d5f0d32209b484bd = L.popup({\n  &quot;maxWidth&quot;: 300,\n});\n\n        \n            \n                var html_2a8343443ca47eec60f78912fe9b957d = $(`&lt;div id=&quot;html_2a8343443ca47eec60f78912fe9b957d&quot; style=&quot;width: 100.0%; height: 100.0%;&quot;&gt;&lt;b&gt;Launch Site:&lt;/b&gt; Site A&lt;br&gt;&lt;b&gt;Result:&lt;/b&gt; Success&lt;/div&gt;`)[0];\n                popup_85c87f33661637a2d5f0d32209b484bd.setContent(html_2a8343443ca47eec60f78912fe9b957d);\n            \n        \n\n        marker_f571251ad4719dd37f61e437606496a9.bindPopup(popup_85c87f33661637a2d5f0d32209b484bd)\n        ;\n\n        \n    \n    \n            var marker_8a09ec3e87c2bc9de18e3293b04cc9bb = L.marker(\n                [28.5632, -80.577],\n                {\n}\n            ).addTo(marker_cluster_592ee53cb7dbe83644ff369316b58fe4);\n        \n    \n            var icon_eb18ef910496633d5920d0f7c4945bb9 = L.AwesomeMarkers.icon(\n                {\n  &quot;markerColor&quot;: &quot;red&quot;,\n  &quot;iconColor&quot;: &quot;white&quot;,\n  &quot;icon&quot;: &quot;remove&quot;,\n  &quot;prefix&quot;: &quot;fa&quot;,\n  &quot;extraClasses&quot;: &quot;fa-rotate-0&quot;,\n}\n            );\n            marker_8a09ec3e87c2bc9de18e3293b04cc9bb.setIcon(icon_eb18ef910496633d5920d0f7c4945bb9);\n        \n    \n        var popup_5ae22f9b91a0ba5c39ffbc30e79f193c = L.popup({\n  &quot;maxWidth&quot;: 300,\n});\n\n        \n            \n                var html_a9b25cf3c4cdb376a749689189e4ba4b = $(`&lt;div id=&quot;html_a9b25cf3c4cdb376a749689189e4ba4b&quot; style=&quot;width: 100.0%; height: 100.0%;&quot;&gt;&lt;b&gt;Launch Site:&lt;/b&gt; Site B&lt;br&gt;&lt;b&gt;Result:&lt;/b&gt; Failure&lt;/div&gt;`)[0];\n                popup_5ae22f9b91a0ba5c39ffbc30e79f193c.setContent(html_a9b25cf3c4cdb376a749689189e4ba4b);\n            \n        \n\n        marker_8a09ec3e87c2bc9de18e3293b04cc9bb.bindPopup(popup_5ae22f9b91a0ba5c39ffbc30e79f193c)\n        ;\n\n        \n    \n    \n            var marker_5e0fc364320339c40b5e0654cc3c3d8d = L.marker(\n                [28.5728, -80.649],\n                {\n}\n            ).addTo(marker_cluster_592ee53cb7dbe83644ff369316b58fe4);\n        \n    \n            var icon_0b1998e30b085543ec5ea44d734d1c23 = L.AwesomeMarkers.icon(\n                {\n  &quot;markerColor&quot;: &quot;green&quot;,\n  &quot;iconColor&quot;: &quot;white&quot;,\n  &quot;icon&quot;: &quot;rocket&quot;,\n  &quot;prefix&quot;: &quot;fa&quot;,\n  &quot;extraClasses&quot;: &quot;fa-rotate-0&quot;,\n}\n            );\n            marker_5e0fc364320339c40b5e0654cc3c3d8d.setIcon(icon_0b1998e30b085543ec5ea44d734d1c23);\n        \n    \n        var popup_eda16e127272e54216e6d04a7a0da633 = L.popup({\n  &quot;maxWidth&quot;: 300,\n});\n\n        \n            \n                var html_1faff9f1de165074ebb8737d1caf5cdd = $(`&lt;div id=&quot;html_1faff9f1de165074ebb8737d1caf5cdd&quot; style=&quot;width: 100.0%; height: 100.0%;&quot;&gt;&lt;b&gt;Launch Site:&lt;/b&gt; Site C&lt;br&gt;&lt;b&gt;Result:&lt;/b&gt; Success&lt;/div&gt;`)[0];\n                popup_eda16e127272e54216e6d04a7a0da633.setContent(html_1faff9f1de165074ebb8737d1caf5cdd);\n            \n        \n\n        marker_5e0fc364320339c40b5e0654cc3c3d8d.bindPopup(popup_eda16e127272e54216e6d04a7a0da633)\n        ;\n\n        \n    \n    \n            var marker_05453b95b7c3160cd64f8abe9be6760e = L.marker(\n                [28.5623, -80.576],\n                {\n}\n            ).addTo(marker_cluster_592ee53cb7dbe83644ff369316b58fe4);\n        \n    \n            var icon_38ac0c66d29debb0951a8abb0c096835 = L.AwesomeMarkers.icon(\n                {\n  &quot;markerColor&quot;: &quot;red&quot;,\n  &quot;iconColor&quot;: &quot;white&quot;,\n  &quot;icon&quot;: &quot;remove&quot;,\n  &quot;prefix&quot;: &quot;fa&quot;,\n  &quot;extraClasses&quot;: &quot;fa-rotate-0&quot;,\n}\n            );\n            marker_05453b95b7c3160cd64f8abe9be6760e.setIcon(icon_38ac0c66d29debb0951a8abb0c096835);\n        \n    \n        var popup_264c9ec54b2ce528b24ae9359eae2b74 = L.popup({\n  &quot;maxWidth&quot;: 300,\n});\n\n        \n            \n                var html_6a87c545d426b24c43edfedfdac3b71b = $(`&lt;div id=&quot;html_6a87c545d426b24c43edfedfdac3b71b&quot; style=&quot;width: 100.0%; height: 100.0%;&quot;&gt;&lt;b&gt;Launch Site:&lt;/b&gt; Site D&lt;br&gt;&lt;b&gt;Result:&lt;/b&gt; Failure&lt;/div&gt;`)[0];\n                popup_264c9ec54b2ce528b24ae9359eae2b74.setContent(html_6a87c545d426b24c43edfedfdac3b71b);\n            \n        \n\n        marker_05453b95b7c3160cd64f8abe9be6760e.bindPopup(popup_264c9ec54b2ce528b24ae9359eae2b74)\n        ;\n\n        \n    \n    \n            var marker_4f570e22a0dfcc7a163fa2168aa3b9e9 = L.marker(\n                [28.5745, -80.65],\n                {\n}\n            ).addTo(marker_cluster_592ee53cb7dbe83644ff369316b58fe4);\n        \n    \n            var icon_73b8b589cf32d9ce5f9ff2a9116f50fb = L.AwesomeMarkers.icon(\n                {\n  &quot;markerColor&quot;: &quot;green&quot;,\n  &quot;iconColor&quot;: &quot;white&quot;,\n  &quot;icon&quot;: &quot;rocket&quot;,\n  &quot;prefix&quot;: &quot;fa&quot;,\n  &quot;extraClasses&quot;: &quot;fa-rotate-0&quot;,\n}\n            );\n            marker_4f570e22a0dfcc7a163fa2168aa3b9e9.setIcon(icon_73b8b589cf32d9ce5f9ff2a9116f50fb);\n        \n    \n        var popup_faa7e95e03b76ed30ff71e71c98c3751 = L.popup({\n  &quot;maxWidth&quot;: 300,\n});\n\n        \n            \n                var html_74225b2b780452cd87b6f166fdd811c2 = $(`&lt;div id=&quot;html_74225b2b780452cd87b6f166fdd811c2&quot; style=&quot;width: 100.0%; height: 100.0%;&quot;&gt;&lt;b&gt;Launch Site:&lt;/b&gt; Site E&lt;br&gt;&lt;b&gt;Result:&lt;/b&gt; Success&lt;/div&gt;`)[0];\n                popup_faa7e95e03b76ed30ff71e71c98c3751.setContent(html_74225b2b780452cd87b6f166fdd811c2);\n            \n        \n\n        marker_4f570e22a0dfcc7a163fa2168aa3b9e9.bindPopup(popup_faa7e95e03b76ed30ff71e71c98c3751)\n        ;\n\n        \n    \n    \n            marker_cluster_592ee53cb7dbe83644ff369316b58fe4.addTo(map_a2cb3feefeb6a0e8715d64962809c791);\n        \n    \n            tile_layer_1e8fdc2f86e88146548a9abc41947a09.addTo(map_a2cb3feefeb6a0e8715d64962809c791);\n        \n    \n            marker_cluster_592ee53cb7dbe83644ff369316b58fe4.addTo(map_a2cb3feefeb6a0e8715d64962809c791);\n        \n    \n            var marker_cluster_7114bccf5a90e49860676117bdee2ff5 = L.markerClusterGroup(\n                {\n}\n            );\n        \n    \n            marker_cluster_7114bccf5a90e49860676117bdee2ff5.addTo(map_a2cb3feefeb6a0e8715d64962809c791);\n        \n    \n            var marker_cluster_2c423f430e9fe68eb4dadebfa6d658f8 = L.markerClusterGroup(\n                {\n}\n            );\n        \n    \n            var marker_578d25988e50080d2f8cf91b7eae3e1b = L.marker(\n                [28.5721, -80.648],\n                {\n  &quot;color&quot;: &quot;green&quot;,\n}\n            ).addTo(marker_cluster_2c423f430e9fe68eb4dadebfa6d658f8);\n        \n    \n        var popup_1b7c687630a9901930c71daf4fa6f9e9 = L.popup({\n  &quot;maxWidth&quot;: &quot;100%&quot;,\n});\n\n        \n            \n                var html_9d950de0c2268fef9792a05d3417146a = $(`&lt;div id=&quot;html_9d950de0c2268fef9792a05d3417146a&quot; style=&quot;width: 100.0%; height: 100.0%;&quot;&gt;Site A&lt;/div&gt;`)[0];\n                popup_1b7c687630a9901930c71daf4fa6f9e9.setContent(html_9d950de0c2268fef9792a05d3417146a);\n            \n        \n\n        marker_578d25988e50080d2f8cf91b7eae3e1b.bindPopup(popup_1b7c687630a9901930c71daf4fa6f9e9)\n        ;\n\n        \n    \n    \n            var marker_364544e5e64d189585cb8ddef650341f = L.marker(\n                [28.5632, -80.577],\n                {\n  &quot;color&quot;: &quot;red&quot;,\n}\n            ).addTo(marker_cluster_2c423f430e9fe68eb4dadebfa6d658f8);\n        \n    \n        var popup_7b6c8ecb17284e3eb7a693ceb6227cfe = L.popup({\n  &quot;maxWidth&quot;: &quot;100%&quot;,\n});\n\n        \n            \n                var html_35c632ca71b7d603f6cf70eeb5c7cef6 = $(`&lt;div id=&quot;html_35c632ca71b7d603f6cf70eeb5c7cef6&quot; style=&quot;width: 100.0%; height: 100.0%;&quot;&gt;Site B&lt;/div&gt;`)[0];\n                popup_7b6c8ecb17284e3eb7a693ceb6227cfe.setContent(html_35c632ca71b7d603f6cf70eeb5c7cef6);\n            \n        \n\n        marker_364544e5e64d189585cb8ddef650341f.bindPopup(popup_7b6c8ecb17284e3eb7a693ceb6227cfe)\n        ;\n\n        \n    \n    \n            var marker_4d62d13294008b06328519dee528142c = L.marker(\n                [28.5728, -80.649],\n                {\n  &quot;color&quot;: &quot;green&quot;,\n}\n            ).addTo(marker_cluster_2c423f430e9fe68eb4dadebfa6d658f8);\n        \n    \n        var popup_48f0d9d7a6106ffb42a4c650b1e0b848 = L.popup({\n  &quot;maxWidth&quot;: &quot;100%&quot;,\n});\n\n        \n            \n                var html_e176c8281c4f55122d35817f38f38ffe = $(`&lt;div id=&quot;html_e176c8281c4f55122d35817f38f38ffe&quot; style=&quot;width: 100.0%; height: 100.0%;&quot;&gt;Site C&lt;/div&gt;`)[0];\n                popup_48f0d9d7a6106ffb42a4c650b1e0b848.setContent(html_e176c8281c4f55122d35817f38f38ffe);\n            \n        \n\n        marker_4d62d13294008b06328519dee528142c.bindPopup(popup_48f0d9d7a6106ffb42a4c650b1e0b848)\n        ;\n\n        \n    \n    \n            var marker_80b13fc8639d30607dba1e6bfa4f5819 = L.marker(\n                [28.5623, -80.576],\n                {\n  &quot;color&quot;: &quot;red&quot;,\n}\n            ).addTo(marker_cluster_2c423f430e9fe68eb4dadebfa6d658f8);\n        \n    \n        var popup_0f27fde7cddbdfd1dff5fd3da158d838 = L.popup({\n  &quot;maxWidth&quot;: &quot;100%&quot;,\n});\n\n        \n            \n                var html_c523ab38aa48dbafd2809ecd119e5410 = $(`&lt;div id=&quot;html_c523ab38aa48dbafd2809ecd119e5410&quot; style=&quot;width: 100.0%; height: 100.0%;&quot;&gt;Site D&lt;/div&gt;`)[0];\n                popup_0f27fde7cddbdfd1dff5fd3da158d838.setContent(html_c523ab38aa48dbafd2809ecd119e5410);\n            \n        \n\n        marker_80b13fc8639d30607dba1e6bfa4f5819.bindPopup(popup_0f27fde7cddbdfd1dff5fd3da158d838)\n        ;\n\n        \n    \n    \n            var marker_4361a58a08db0334bd2aed6677bf20fc = L.marker(\n                [28.5745, -80.65],\n                {\n  &quot;color&quot;: &quot;green&quot;,\n}\n            ).addTo(marker_cluster_2c423f430e9fe68eb4dadebfa6d658f8);\n        \n    \n        var popup_6b12354b11a9b83f45615a0bb2324d96 = L.popup({\n  &quot;maxWidth&quot;: &quot;100%&quot;,\n});\n\n        \n            \n                var html_cb50dc220133dc52371404daef21267b = $(`&lt;div id=&quot;html_cb50dc220133dc52371404daef21267b&quot; style=&quot;width: 100.0%; height: 100.0%;&quot;&gt;Site E&lt;/div&gt;`)[0];\n                popup_6b12354b11a9b83f45615a0bb2324d96.setContent(html_cb50dc220133dc52371404daef21267b);\n            \n        \n\n        marker_4361a58a08db0334bd2aed6677bf20fc.bindPopup(popup_6b12354b11a9b83f45615a0bb2324d96)\n        ;\n\n        \n    \n    \n            marker_cluster_2c423f430e9fe68eb4dadebfa6d658f8.addTo(map_a2cb3feefeb6a0e8715d64962809c791);\n        \n    \n            tile_layer_1e8fdc2f86e88146548a9abc41947a09.addTo(map_a2cb3feefeb6a0e8715d64962809c791);\n        \n    \n            marker_cluster_592ee53cb7dbe83644ff369316b58fe4.addTo(map_a2cb3feefeb6a0e8715d64962809c791);\n        \n    \n            marker_cluster_7114bccf5a90e49860676117bdee2ff5.addTo(map_a2cb3feefeb6a0e8715d64962809c791);\n        \n    \n            marker_cluster_2c423f430e9fe68eb4dadebfa6d658f8.addTo(map_a2cb3feefeb6a0e8715d64962809c791);\n        \n    \n            var marker_cluster_658d3feefff3d4410e76e190eb4f8963 = L.markerClusterGroup(\n                {\n}\n            );\n        \n    \n            var marker_d55c7fea845359bd7f44886fb52bfb3f = L.marker(\n                [28.5721, -80.648],\n                {\n  &quot;color&quot;: &quot;green&quot;,\n}\n            ).addTo(marker_cluster_658d3feefff3d4410e76e190eb4f8963);\n        \n    \n        var popup_fab90add05a599d26f468f9f70b723a7 = L.popup({\n  &quot;maxWidth&quot;: &quot;100%&quot;,\n});\n\n        \n            \n                var html_38f4d486e41b8a04edf7319b335bc3e5 = $(`&lt;div id=&quot;html_38f4d486e41b8a04edf7319b335bc3e5&quot; style=&quot;width: 100.0%; height: 100.0%;&quot;&gt;Site A&lt;/div&gt;`)[0];\n                popup_fab90add05a599d26f468f9f70b723a7.setContent(html_38f4d486e41b8a04edf7319b335bc3e5);\n            \n        \n\n        marker_d55c7fea845359bd7f44886fb52bfb3f.bindPopup(popup_fab90add05a599d26f468f9f70b723a7)\n        ;\n\n        \n    \n    \n            var marker_3bf179b5d6b671a4b30fb7d61b965c0e = L.marker(\n                [28.5632, -80.577],\n                {\n  &quot;color&quot;: &quot;red&quot;,\n}\n            ).addTo(marker_cluster_658d3feefff3d4410e76e190eb4f8963);\n        \n    \n        var popup_9b4095773054b200a67ee62f6353a233 = L.popup({\n  &quot;maxWidth&quot;: &quot;100%&quot;,\n});\n\n        \n            \n                var html_7c2406c6644462eb8056129683f21117 = $(`&lt;div id=&quot;html_7c2406c6644462eb8056129683f21117&quot; style=&quot;width: 100.0%; height: 100.0%;&quot;&gt;Site B&lt;/div&gt;`)[0];\n                popup_9b4095773054b200a67ee62f6353a233.setContent(html_7c2406c6644462eb8056129683f21117);\n            \n        \n\n        marker_3bf179b5d6b671a4b30fb7d61b965c0e.bindPopup(popup_9b4095773054b200a67ee62f6353a233)\n        ;\n\n        \n    \n    \n            var marker_0f8ba25983cf2f8bcf7fde3a56878ef0 = L.marker(\n                [28.5728, -80.649],\n                {\n  &quot;color&quot;: &quot;green&quot;,\n}\n            ).addTo(marker_cluster_658d3feefff3d4410e76e190eb4f8963);\n        \n    \n        var popup_1a7010f3c3721e44b60602361fa8a5c9 = L.popup({\n  &quot;maxWidth&quot;: &quot;100%&quot;,\n});\n\n        \n            \n                var html_ca766b2f23609905ce49844f968252e0 = $(`&lt;div id=&quot;html_ca766b2f23609905ce49844f968252e0&quot; style=&quot;width: 100.0%; height: 100.0%;&quot;&gt;Site C&lt;/div&gt;`)[0];\n                popup_1a7010f3c3721e44b60602361fa8a5c9.setContent(html_ca766b2f23609905ce49844f968252e0);\n            \n        \n\n        marker_0f8ba25983cf2f8bcf7fde3a56878ef0.bindPopup(popup_1a7010f3c3721e44b60602361fa8a5c9)\n        ;\n\n        \n    \n    \n            var marker_dfaca91755d4c5dc1e543c4d587918f1 = L.marker(\n                [28.5623, -80.576],\n                {\n  &quot;color&quot;: &quot;red&quot;,\n}\n            ).addTo(marker_cluster_658d3feefff3d4410e76e190eb4f8963);\n        \n    \n        var popup_a253c0b39cee538ea1d3d65645f2e210 = L.popup({\n  &quot;maxWidth&quot;: &quot;100%&quot;,\n});\n\n        \n            \n                var html_b57cd902b9fa67cefc77f6035611e0a4 = $(`&lt;div id=&quot;html_b57cd902b9fa67cefc77f6035611e0a4&quot; style=&quot;width: 100.0%; height: 100.0%;&quot;&gt;Site D&lt;/div&gt;`)[0];\n                popup_a253c0b39cee538ea1d3d65645f2e210.setContent(html_b57cd902b9fa67cefc77f6035611e0a4);\n            \n        \n\n        marker_dfaca91755d4c5dc1e543c4d587918f1.bindPopup(popup_a253c0b39cee538ea1d3d65645f2e210)\n        ;\n\n        \n    \n    \n            var marker_e217d4b3380463fa6361e81803b2ab57 = L.marker(\n                [28.5745, -80.65],\n                {\n  &quot;color&quot;: &quot;green&quot;,\n}\n            ).addTo(marker_cluster_658d3feefff3d4410e76e190eb4f8963);\n        \n    \n        var popup_625cddc4a277abdf55a0ef2029821cf9 = L.popup({\n  &quot;maxWidth&quot;: &quot;100%&quot;,\n});\n\n        \n            \n                var html_2767c675aff7058548b8fb9a1abf6146 = $(`&lt;div id=&quot;html_2767c675aff7058548b8fb9a1abf6146&quot; style=&quot;width: 100.0%; height: 100.0%;&quot;&gt;Site E&lt;/div&gt;`)[0];\n                popup_625cddc4a277abdf55a0ef2029821cf9.setContent(html_2767c675aff7058548b8fb9a1abf6146);\n            \n        \n\n        marker_e217d4b3380463fa6361e81803b2ab57.bindPopup(popup_625cddc4a277abdf55a0ef2029821cf9)\n        ;\n\n        \n    \n    \n            marker_cluster_658d3feefff3d4410e76e190eb4f8963.addTo(map_a2cb3feefeb6a0e8715d64962809c791);\n        \n    \n            tile_layer_1e8fdc2f86e88146548a9abc41947a09.addTo(map_a2cb3feefeb6a0e8715d64962809c791);\n        \n    \n            marker_cluster_592ee53cb7dbe83644ff369316b58fe4.addTo(map_a2cb3feefeb6a0e8715d64962809c791);\n        \n    \n            marker_cluster_7114bccf5a90e49860676117bdee2ff5.addTo(map_a2cb3feefeb6a0e8715d64962809c791);\n        \n    \n            marker_cluster_2c423f430e9fe68eb4dadebfa6d658f8.addTo(map_a2cb3feefeb6a0e8715d64962809c791);\n        \n    \n            marker_cluster_658d3feefff3d4410e76e190eb4f8963.addTo(map_a2cb3feefeb6a0e8715d64962809c791);\n        \n    \n            var mouse_position_44e725c26303b46532b4980fea2d8dab = new L.Control.MousePosition(\n                {\n  &quot;position&quot;: &quot;topright&quot;,\n  &quot;separator&quot;: &quot; Long: &quot;,\n  &quot;emptyString&quot;: &quot;NaN&quot;,\n  &quot;lngFirst&quot;: false,\n  &quot;numDigits&quot;: 20,\n  &quot;prefix&quot;: &quot;Lat:&quot;,\n}\n            );\n            mouse_position_44e725c26303b46532b4980fea2d8dab.options[&quot;latFormatter&quot;] =\n                function(num) {return L.Util.formatNum(num, 5);};;\n            mouse_position_44e725c26303b46532b4980fea2d8dab.options[&quot;lngFormatter&quot;] =\n                function(num) {return L.Util.formatNum(num, 5);};;\n            map_a2cb3feefeb6a0e8715d64962809c791.addControl(mouse_position_44e725c26303b46532b4980fea2d8dab);\n        \n&lt;/script&gt;\n&lt;/html&gt;\" style=\"position:absolute;width:100%;height:100%;left:0;top:0;border:none !important;\" allowfullscreen webkitallowfullscreen mozallowfullscreen></iframe></div></div>"
          },
          "metadata": {}
        }
      ],
      "execution_count": 89
    },
    {
      "cell_type": "markdown",
      "source": "Now zoom in to a launch site and explore its proximity to see if you can easily find any railway, highway, coastline, etc. Move your mouse to these points and mark down their coordinates (shown on the top-left) in order to the distance to the launch site.\n",
      "metadata": {}
    },
    {
      "cell_type": "markdown",
      "source": "Now zoom in to a launch site and explore its proximity to see if you can easily find any railway, highway, coastline, etc. Move your mouse to these points and mark down their coordinates (shown on the top-left) in order to the distance to the launch site.\n",
      "metadata": {}
    },
    {
      "cell_type": "code",
      "source": "from math import sin, cos, sqrt, atan2, radians\n\ndef calculate_distance(lat1, lon1, lat2, lon2):\n    # approximate radius of earth in km\n    R = 6373.0\n\n    lat1 = radians(lat1)\n    lon1 = radians(lon1)\n    lat2 = radians(lat2)\n    lon2 = radians(lon2)\n\n    dlon = lon2 - lon1\n    dlat = lat2 - lat1\n\n    a = sin(dlat / 2)**2 + cos(lat1) * cos(lat2) * sin(dlon / 2)**2\n    c = 2 * atan2(sqrt(a), sqrt(1 - a))\n\n    distance = R * c\n    return distance",
      "metadata": {
        "trusted": true
      },
      "outputs": [],
      "execution_count": 1
    },
    {
      "cell_type": "markdown",
      "source": "*TODO:* Mark down a point on the closest coastline using MousePosition and calculate the distance between the coastline point and the launch site.\n",
      "metadata": {}
    },
    {
      "cell_type": "code",
      "source": "launch_sites_df.head()",
      "metadata": {
        "trusted": true
      },
      "outputs": [
        {
          "ename": "<class 'NameError'>",
          "evalue": "name 'launch_sites_df' is not defined",
          "traceback": [
            "\u001b[0;31m---------------------------------------------------------------------------\u001b[0m",
            "\u001b[0;31mNameError\u001b[0m                                 Traceback (most recent call last)",
            "Cell \u001b[0;32mIn[7], line 1\u001b[0m\n\u001b[0;32m----> 1\u001b[0m \u001b[43mlaunch_sites_df\u001b[49m\u001b[38;5;241m.\u001b[39mhead()\n",
            "\u001b[0;31mNameError\u001b[0m: name 'launch_sites_df' is not defined"
          ],
          "output_type": "error"
        }
      ],
      "execution_count": 7
    },
    {
      "cell_type": "code",
      "source": "# find coordinate of the closet coastline\ncoastline={'Lat':28.56367 ,'Lon':80.57163}\ndistance_coastline = calculate_distance(launch_sites['long'] ,, coastline.lat, coastline.lon)",
      "metadata": {
        "trusted": true
      },
      "outputs": [
        {
          "ename": "<class 'NameError'>",
          "evalue": "name 'launch_sites' is not defined",
          "traceback": [
            "\u001b[0;31m---------------------------------------------------------------------------\u001b[0m",
            "\u001b[0;31mNameError\u001b[0m                                 Traceback (most recent call last)",
            "Cell \u001b[0;32mIn[5], line 3\u001b[0m\n\u001b[1;32m      1\u001b[0m \u001b[38;5;66;03m# find coordinate of the closet coastline\u001b[39;00m\n\u001b[1;32m      2\u001b[0m coastline\u001b[38;5;241m=\u001b[39m{\u001b[38;5;124m'\u001b[39m\u001b[38;5;124mLat\u001b[39m\u001b[38;5;124m'\u001b[39m:\u001b[38;5;241m28.56367\u001b[39m ,\u001b[38;5;124m'\u001b[39m\u001b[38;5;124mLon\u001b[39m\u001b[38;5;124m'\u001b[39m:\u001b[38;5;241m80.57163\u001b[39m}\n\u001b[0;32m----> 3\u001b[0m distance_coastline \u001b[38;5;241m=\u001b[39m calculate_distance(\u001b[43mlaunch_sites\u001b[49m[\u001b[38;5;124m'\u001b[39m\u001b[38;5;124mlong\u001b[39m\u001b[38;5;124m'\u001b[39m] ,launch_sites[\u001b[38;5;124m'\u001b[39m\u001b[38;5;124mLat\u001b[39m\u001b[38;5;124m'\u001b[39m], coastline\u001b[38;5;241m.\u001b[39mlat, coastline\u001b[38;5;241m.\u001b[39mlon)\n",
            "\u001b[0;31mNameError\u001b[0m: name 'launch_sites' is not defined"
          ],
          "output_type": "error"
        }
      ],
      "execution_count": 5
    },
    {
      "cell_type": "code",
      "source": "# Create and add a folium.Marker on your selected closest coastline point on the map\n# Display the distance between coastline point and launch site using the icon property \n for example\ndistance_marker = folium.Marker(\n   coordinate,\n   icon=DivIcon(\n       icon_size=(20,20),\n       icon_anchor=(0,0),\n       html='<div style=\"font-size: 12; color:#d35400;\"><b>%s</b></div>' % \"{:10.2f} KM\".format(distance),        )\n    )",
      "metadata": {
        "trusted": true
      },
      "outputs": [
        {
          "ename": "<class 'IndentationError'>",
          "evalue": "unexpected indent (<ipython-input-6-40b9a696324c>, line 3)",
          "traceback": [
            "\u001b[0;36m  Cell \u001b[0;32mIn[6], line 3\u001b[0;36m\u001b[0m\n\u001b[0;31m    for example\u001b[0m\n\u001b[0m    ^\u001b[0m\n\u001b[0;31mIndentationError\u001b[0m\u001b[0;31m:\u001b[0m unexpected indent\n"
          ],
          "output_type": "error"
        }
      ],
      "execution_count": 6
    },
    {
      "cell_type": "markdown",
      "source": "*TODO:* Draw a `PolyLine` between a launch site to the selected coastline point\n",
      "metadata": {}
    },
    {
      "cell_type": "code",
      "source": "# Create a `folium.PolyLine` object using the coastline coordinates and launch site coordinate\n# lines=folium.PolyLine(locations=coordinates, weight=1)\nsite_map.add_child(lines)",
      "metadata": {},
      "outputs": [],
      "execution_count": null
    },
    {
      "cell_type": "markdown",
      "source": "Your updated map with distance line should look like the following screenshot:\n",
      "metadata": {}
    },
    {
      "cell_type": "markdown",
      "source": "<center>\n    <img src=\"https://cf-courses-data.s3.us.cloud-object-storage.appdomain.cloud/IBM-DS0321EN-SkillsNetwork/labs/module_3/images/launch_site_marker_distance.png\">\n</center>\n",
      "metadata": {}
    },
    {
      "cell_type": "markdown",
      "source": "*TODO:* Similarly, you can draw a line betwee a launch site to its closest city, railway, highway, etc. You need to use `MousePosition` to find the their coordinates on the map first\n",
      "metadata": {}
    },
    {
      "cell_type": "markdown",
      "source": "A railway map symbol may look like this:\n",
      "metadata": {}
    },
    {
      "cell_type": "markdown",
      "source": "<center>\n    <img src=\"https://cf-courses-data.s3.us.cloud-object-storage.appdomain.cloud/IBM-DS0321EN-SkillsNetwork/labs/module_3/images/railway.png\">\n</center>\n",
      "metadata": {}
    },
    {
      "cell_type": "markdown",
      "source": "A highway map symbol may look like this:\n",
      "metadata": {}
    },
    {
      "cell_type": "markdown",
      "source": "<center>\n    <img src=\"https://cf-courses-data.s3.us.cloud-object-storage.appdomain.cloud/IBM-DS0321EN-SkillsNetwork/labs/module_3/images/highway.png\">\n</center>\n",
      "metadata": {}
    },
    {
      "cell_type": "markdown",
      "source": "A city map symbol may look like this:\n",
      "metadata": {}
    },
    {
      "cell_type": "markdown",
      "source": "<center>\n    <img src=\"https://cf-courses-data.s3.us.cloud-object-storage.appdomain.cloud/IBM-DS0321EN-SkillsNetwork/labs/module_3/images/city.png\">\n</center>\n",
      "metadata": {}
    },
    {
      "cell_type": "code",
      "source": "# Create a marker with distance to a closest city, railway, highway, etc.\n# Draw a line between the marker to the launch site\n",
      "metadata": {},
      "outputs": [],
      "execution_count": null
    },
    {
      "cell_type": "code",
      "source": "",
      "metadata": {},
      "outputs": [],
      "execution_count": null
    },
    {
      "cell_type": "code",
      "source": "",
      "metadata": {},
      "outputs": [],
      "execution_count": null
    },
    {
      "cell_type": "markdown",
      "source": "After you plot distance lines to the proximities, you can answer the following questions easily:\n\n*   Are launch sites in close proximity to railways?\n*   Are launch sites in close proximity to highways?\n*   Are launch sites in close proximity to coastline?\n*   Do launch sites keep certain distance away from cities?\n\nAlso please try to explain your findings.\n",
      "metadata": {}
    },
    {
      "cell_type": "markdown",
      "source": "# Next Steps:\n\nNow you have discovered many interesting insights related to the launch sites' location using folium, in a very interactive way. Next, you will need to build a dashboard using Ploty Dash on detailed launch records.\n",
      "metadata": {}
    },
    {
      "cell_type": "markdown",
      "source": "## Authors\n",
      "metadata": {}
    },
    {
      "cell_type": "markdown",
      "source": "[Pratiksha Verma](https://www.linkedin.com/in/pratiksha-verma-6487561b1/)\n",
      "metadata": {}
    },
    {
      "cell_type": "markdown",
      "source": "<!--## Change Log--!>\n",
      "metadata": {}
    },
    {
      "cell_type": "markdown",
      "source": "<!--| Date (YYYY-MM-DD) | Version | Changed By      | Change Description      |\n| ----------------- | ------- | -------------   | ----------------------- |\n| 2022-11-09        | 1.0     | Pratiksha Verma | Converted initial version to Jupyterlite|--!>\n",
      "metadata": {}
    },
    {
      "cell_type": "markdown",
      "source": "### <h3 align=\"center\"> IBM Corporation 2022. All rights reserved. <h3/>\n",
      "metadata": {}
    }
  ]
}